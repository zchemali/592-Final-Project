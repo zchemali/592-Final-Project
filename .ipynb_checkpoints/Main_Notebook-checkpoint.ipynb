{
 "cells": [
  {
   "cell_type": "code",
   "execution_count": 100,
   "metadata": {},
   "outputs": [],
   "source": [
    "import pandas as pd\n",
    "import numpy as np\n",
    "import seaborn as sns\n",
    "import folium\n",
    "from folium.plugins import HeatMap\n",
    "import scipy\n",
    "from scipy import stats\n",
    "from matplotlib import pyplot as plt"
   ]
  },
  {
   "cell_type": "markdown",
   "metadata": {},
   "source": [
    "   # Creating Classes"
   ]
  },
  {
   "cell_type": "markdown",
   "metadata": {},
   "source": [
    "   **Road data handling class**"
   ]
  },
  {
   "cell_type": "code",
   "execution_count": 2,
   "metadata": {},
   "outputs": [],
   "source": [
    "class Road_Features():\n",
    "    \"\"\"\n",
    "    This class reads the csvs of Road data , clean and returen the organized dataFrames\n",
    "    \"\"\"\n",
    "    def __init__(self):\n",
    "        self.Signal_Handling()\n",
    "  \n",
    "        \n",
    "    \n",
    "        self.Speed_Handling()\n",
    "        self.Camera_Handling()\n",
    "        self.Incidents_Handling()\n",
    "        self.Sign_Handling()\n",
    "        self.Volume_Handling()\n",
    "        \n",
    "\n",
    "    def Speed_Handling(self):\n",
    "        self.speed_limit=pd.read_csv('Speed_Limits.csv')\n",
    "        \n",
    "        self.speed_limit.rename(columns={'STREET_NAME':'Location','SPEED':'Speed','multiline':'Coordinates','CREATED_DT':'Date'},inplace=True)\n",
    "        coord=self.speed_limit['Coordinates'].str.split(expand=True)\n",
    "        \n",
    "        for i in range(len(coord.columns)):\n",
    "            if(i>0):\n",
    "                coord[i]= coord[i].str.strip(')(,')\n",
    "        coord.drop(columns=0,inplace=True)\n",
    "        self.speed_limit['Date']=pd.to_datetime(self.speed_limit['Date'])\n",
    "        self.speed_limit['Year']=pd.DatetimeIndex(self.speed_limit['Date']).year\n",
    "        self.speed_limit=self.speed_limit[['Year','Speed']]\n",
    "        self.speed_limit=pd.merge(self.speed_limit,coord,left_index=True,right_index=True)\n",
    "        self.speed_limit=self.speed_limit.loc[self.speed_limit['Year']<=2018]\n",
    "    def Camera_Handling(self):\n",
    "        self.cameras=pd.read_csv('Traffic_Camera_Locations.csv')\n",
    "        self.cameras=self.cameras[['longitude','latitude']]\n",
    "#         print(self.cameras)\n",
    "    def Incidents_Handling(self):\n",
    "        self.incidents=pd.read_csv('Traffic_Incidents.csv')\n",
    "        self.incidents.rename(columns={'INCIDENT INFO':'Location','START_DT':'Date'},inplace=True)\n",
    "        self.incidents['Date']=pd.to_datetime(self.incidents['Date'])\n",
    "        self.incidents['Year']=pd.DatetimeIndex(self.incidents['Date']).year\n",
    "        self.incidents=self.incidents[['Location','Year','Longitude','Latitude','Count']]\n",
    "        self.incidents=self.incidents.loc[self.incidents['Year']==2018]\n",
    "        self.incidents=self.incidents.groupby('Location').sum().reset_index()\n",
    "        self.incidents['Longitude']=self.incidents['Longitude']/self.incidents['Count']\n",
    "        self.incidents['Latitude']=self.incidents['Latitude']/self.incidents['Count']\n",
    "        self.incidents['Year']=self.incidents['Year']/self.incidents['Count']\n",
    "        self.incidents.to_csv('organzied_incidents.csv')\n",
    "    def Signal_Handling(self):\n",
    "        self.signals=pd.read_csv('Traffic_Signals.csv')\n",
    "        self.signals.rename(columns={'INSTDATE':'Date','INT_TYPE':'Signal Type','latitude':'Latitude',\\\n",
    "                                     'longitude':'Longitude'},inplace=True)\n",
    "        self.signals['Intersection']=self.signals['FIRSTROAD']+' & '+self.signals['SECONDROAD']\n",
    "        self.signals['Date']=pd.to_datetime(self.signals['Date'])\n",
    "        self.signals['Year']=pd.DatetimeIndex(self.signals['Date']).year\n",
    "        self.signals['Signal Type']=self.signals['Signal Type'].astype(str)\n",
    "        self.signals=self.signals[['Intersection','Signal Type','Year','Longitude','Latitude','Count']]\n",
    "        \n",
    "        self.signals=self.signals.loc[self.signals['Year']<=2018]\n",
    "        self.signals=self.signals.groupby('Intersection').sum().reset_index()\n",
    "        \n",
    "        self.signals['Longitude']=self.signals['Longitude']/self.signals['Count']\n",
    "        self.signals['Latitude']=self.signals['Latitude']/self.signals['Count'] \n",
    "        self.signals['Year']=self.signals['Year']/self.signals['Count'] \n",
    "        \n",
    "    def Sign_Handling(self):\n",
    "        self.signs=pd.read_csv('Traffic_Signs.csv')\n",
    "        self.signs.rename(columns={'BLADE_TYPE':'Type','INSTDATE':'Date'},inplace=True)\n",
    "        \n",
    "        self.signs['Date']=pd.to_datetime(self.signs['Date'])\n",
    "        self.signs['Year']=pd.DatetimeIndex(self.signs['Date']).year\n",
    "        self.signs['Count']=1\n",
    "        self.signs=self.signs[['Type','Year','POINT','Count']]\n",
    "        self.signs=self.signs.loc[(self.signs['Type']=='Pedestrian') | (self.signs['Type']=='Yield') | (self.signs['Type']=='Stop') | (self.signs['Type']=='Bicycle / Pathway') | (self.signs['Type']=='Speed') | (self.signs['Type']=='School') | (self.signs['Type']=='Playground')]\n",
    "#         print(self.signs['Type'].unique())\n",
    "        self.signs=self.signs.groupby('POINT').sum().reset_index()\n",
    "        self.signs['Year']=self.signs['Year']/self.signs['Count']\n",
    "        self.signs=self.signs.loc[self.signs['Year']<=2018]\n",
    "        coord=self.signs['POINT'].str.split(expand=True)\n",
    "#         \n",
    "        for i in range(len(coord.columns)):\n",
    "            \n",
    "            if (i>0):\n",
    "                coord[i]= coord[i].str.strip(',()')\n",
    "\n",
    "        coord.drop(columns=0,inplace=True)\n",
    "        self.signs.drop(columns='POINT',inplace=True)\n",
    "        self.signs=pd.merge(self.signs,coord,left_index=True,right_index=True)\n",
    "#         self.signs=\n",
    "\n",
    "    def Volume_Handling(self):\n",
    "        self.volume=pd.read_csv('Traffic_Volumes_for_2018.csv')\n",
    "        self.volume.rename(columns={'YEAR':'Year','SECNAME':'Location','VOLUME':'Volume'},inplace=True)\n",
    "        coord=self.volume['multilinestring'].str.split(expand=True)\n",
    "        for i in range(len(coord.columns)):\n",
    "            \n",
    "            if (i>0):\n",
    "                coord[i]= coord[i].str.strip(',()')\n",
    "        coord.drop(columns=0,inplace=True)\n",
    "        self.volume=self.volume[['Year','Location','Volume']]\n",
    "        self.volume=pd.merge(self.volume,coord,left_index=True,right_index=True)\n",
    "    \n",
    "    def get_Speed(self):\n",
    "        return self.speed_limit\n",
    "    def get_Camera(self):\n",
    "        return self.cameras\n",
    "    def get_Incident(self):\n",
    "        return self.incidents\n",
    "    def get_Signal (self):\n",
    "        return self.signals\n",
    "    def get_Sign (self):\n",
    "        return self.signs\n",
    "    def get_Volume(self):\n",
    "        return self.volume\n",
    "        "
   ]
  },
  {
   "cell_type": "markdown",
   "metadata": {},
   "source": [
    "**Weather data Class**"
   ]
  },
  {
   "cell_type": "code",
   "execution_count": 93,
   "metadata": {},
   "outputs": [],
   "source": [
    "class Weather_Features():\n",
    "#     def __init__(self):\n",
    "#         self.download_weather_data()\n",
    "        \n",
    "    def download_weather_data(self):\n",
    "        self.url_template = \"https://climate.weather.gc.ca/climate_data/bulk_data_e.html?format=csv&stationID={station}&Year={year}&Month={month}&Day=14&timeframe={timeframe}&submit=Download+Data\"\n",
    "        for i in range (1,13):\n",
    "            self.url = self.url_template.format(station = 50430, year=2018, month=i, timeframe = 1)\n",
    "            self.weather_data = pd.read_csv(self.url, index_col='Date/Time', parse_dates=True)\n",
    "            self.weather_data.columns = [col.replace('\\xb0', '') for col in self.weather_data.columns]\n",
    "            self.data_df = pd.DataFrame(self.weather_data)\n",
    "            self.data_df = self.data_df[['Temp (C)','Visibility (km)']].resample('D').mean()\n",
    "        #self.data_df = self.data_df.rolling(24).mean()\n",
    "            return self.data_df\n"
   ]
  },
  {
   "cell_type": "code",
   "execution_count": null,
   "metadata": {},
   "outputs": [],
   "source": []
  },
  {
   "cell_type": "markdown",
   "metadata": {},
   "source": [
    "**Map Class**"
   ]
  },
  {
   "cell_type": "code",
   "execution_count": 4,
   "metadata": {},
   "outputs": [],
   "source": [
    "class Map ():\n",
    "    \"\"\"\n",
    "    this class generates the map with boundary and gridlines, also generate the grid coordinates\n",
    "    Todo- add markers for each grid to popup stats per grid\n",
    "    \"\"\"\n",
    "    def __init__(self):\n",
    "        self.boundary=pd.read_csv('City_Boundary_layer.csv')\n",
    "        self.boundary=self.boundary['the_geom'].str.split(expand=True)\n",
    "        \n",
    "        \n",
    "        for i in range(len(self.boundary.columns)):\n",
    "            if(i>0):\n",
    "                self.boundary[i]= self.boundary[i].str.strip(')(,')\n",
    "        self.boundary.drop(columns=0,inplace=True)\n",
    "        self.Boundary()\n",
    "        self.draw_Boundary()\n",
    "        self.draw_Grid()\n",
    "        self.generate_Grid_Coord()\n",
    "        \n",
    "    def Boundary(self):\n",
    "#         self.boundary_coordinates=[]\n",
    "       \n",
    "        df=pd.DataFrame(columns=['Lat','Long'])\n",
    "        for i in range(0,len(self.boundary.columns),2):\n",
    "            if(i+1)<len(self.boundary.columns):\n",
    "                df = df.append({'Long':self.boundary.iloc[0,(i)],'Lat':self.boundary.iloc[0,(i+1)]}, ignore_index=True)\n",
    "#                 tes['Long'].append(float(self.boundary.iloc[0,(i)])\n",
    "#                 tes['Lat'].append(float(self.boundary.iloc[0,(i+1)])\n",
    "#                 temp=[float(self.boundary.iloc[0,i+1]),float(self.boundary.iloc[0,(i)])]\n",
    "#                 self.boundary_coordinates.append(temp)\n",
    "            else:\n",
    "                break\n",
    "        self.min_lat=float(df['Lat'].min())\n",
    "        self.max_lat=float(df['Lat'].max())\n",
    "        self.min_long=float(df['Long'].min())\n",
    "        self.max_long=float(df['Long'].max())\n",
    "#         print(self.min_lat,self.max_long)\n",
    "#         print(self.min_lat,self.min_long)\n",
    "#         print(self.max_lat,self.min_long)\n",
    "#         print(self.max_lat,self.max_long)\n",
    "    def draw_Boundary(self):\n",
    "        self.m=folium.Map(location=[51.048615,-114.070847],zoom_start=10)\n",
    "        cord=[[self.min_lat,self.max_long],[self.min_lat,self.min_long],\n",
    "              [self.max_lat,self.min_long],[self.max_lat,self.max_long],[self.min_lat,self.max_long]]\n",
    "        \n",
    "        folium.PolyLine(cord,color='blue').add_to(self.m)\n",
    "#         line=folium.vector_layers.PolyLine(self.boundary_coordinates,popup='<b>boundary</b>',\\\n",
    "#                                      tooltip='boundary',color='blue',weight=10).add_to(f1)\n",
    "        \n",
    "        \n",
    "#         print('hter')\n",
    "#         display(m)\n",
    "    def draw_Grid(self):\n",
    "        self.diff_long=(self.max_long-self.min_long)/10\n",
    "        self.diff_lat=(self.max_lat-self.min_lat)/10\n",
    "        for i in range(10):\n",
    "            cord=[[self.min_lat,(self.max_long-self.diff_long*i)],[self.max_lat,(self.max_long-self.diff_long*i)]]\n",
    "            line=folium.vector_layers.PolyLine(cord,color='blue').add_to(self.m)\n",
    "        for i in range(10):\n",
    "            cord=[[(self.max_lat-self.diff_lat*i),self.max_long],[(self.max_lat-self.diff_lat*i),self.min_long]]\n",
    "            line=folium.vector_layers.PolyLine(cord,color='blue').add_to(self.m)\n",
    "        \n",
    "#         folium.Marker(location=[51.0532357621796,-114.035044349223],popup='max,max',color='red').add_to(self.m)\n",
    "#         folium.Marker(location=[self.min_lat,self.min_long],popup='min,min',color='red').add_to(self.m)\n",
    "#         folium.Marker(location=[self.max_lat-self.diff_lat,self.max_long],popup='max-1/10,max',color='red').add_to(self.m)\n",
    "#         f2.add_to(self.m)\n",
    "#         folium.LayerControl().add_to(self.m)\n",
    "        \n",
    "    def generate_Grid_Coord(self):\n",
    "        self.grid_coord=pd.DataFrame(index=['max_lat','min_lat','max_long','min_long'])\n",
    "        count=0\n",
    "        key=1\n",
    "        while(count<=9):\n",
    "            for i in range(10):\n",
    "                max_lat=(self.max_lat-self.diff_lat*count)\n",
    "                min_lat=(self.max_lat-self.diff_lat*(count+1))\n",
    "                max_long=(self.max_long-self.diff_long*i)\n",
    "                min_long=(self.max_long-self.diff_long*(i+1))\n",
    "#                     a=[(self.max_lat-self.diff_lat*k),(self.max_long-self.diff_long*i)]\n",
    "#                     b=[(self.max_lat-self.diff_lat*k),(self.max_long-self.diff_long*(i+1))]\n",
    "#                     c=[(self.max_lat-self.diff_lat*(k+1)),(self.max_long-self.diff_long*(i+1))]\n",
    "#                     d=[(self.max_lat-self.diff_lat*(k+1)),(self.max_long-self.diff_long*i)]\n",
    "                    \n",
    "#                 folium.Marker(location=a,popup='a {}'.format(key),color='red').add_to(self.m)\n",
    "#                 folium.Marker(location=b,popup='b {}'.format(key),color='red').add_to(self.m)\n",
    "#                 folium.Marker(location=c,popup='c {}'.format(key),color='red').add_to(self.m)\n",
    "#                 folium.Marker(location=d,popup='d {}'.format(key),color='red').add_to(self.m)\n",
    "#                 self.grid_coord[key]=[a,b,c,d]\n",
    "                \n",
    "                self.grid_coord[key]=[max_lat,min_lat,max_long,min_long]\n",
    "        \n",
    "        \n",
    "                key+=1\n",
    "            count+=1\n",
    "        self.m.save('index.html')\n",
    "    \n",
    "    \n",
    "        \n",
    "    def get_Grid_Coord(self):\n",
    "        return self.grid_coord\n",
    "    def get_map(self):\n",
    "        return self.m\n",
    "        \n",
    "\n"
   ]
  },
  {
   "cell_type": "markdown",
   "metadata": {},
   "source": [
    "**Data Analysis Class**"
   ]
  },
  {
   "cell_type": "code",
   "execution_count": 5,
   "metadata": {},
   "outputs": [],
   "source": [
    "class Data_Analysis():\n",
    "    \"\"\"\n",
    "    This class will find if any of the data fall in the grid\n",
    "    and calculate the stats\n",
    "    \"\"\"\n",
    "    def __init__(self,speed,camera,incident,signal,sign,volume,weather,grid_coord):\n",
    "        self.speed=speed\n",
    "        self.camera=camera\n",
    "        self.incident=incident\n",
    "        self.signal=signal\n",
    "        self.sign=sign\n",
    "        self.volume=volume\n",
    "        self.weather=weather\n",
    "        self.grid_coord=grid_coord\n",
    "        ## calling functions\n",
    "        self.sign_Analysis()\n",
    "        self.signal_Analysis()\n",
    "        self.incident_Analysis()\n",
    "        self.camera_Analysis()\n",
    "        self.volume_Analysis()\n",
    "        self.speed_Analysis()\n",
    "        self.speed_Coordinates()\n",
    "        self.merge_Data()\n",
    "\n",
    "#             print()\n",
    "#         self.speed.to_csv('test.csv')\n",
    "#         print(len(self.speed.columns))\n",
    "    def speed_Coordinates(self):\n",
    "        self.speed_cord=pd.DataFrame(columns=['Speed','Coord'])\n",
    "        for index,row in self.speed.iterrows():\n",
    "            temp=[[]]\n",
    "            for i in range(3,len(self.speed.columns)-1,2):\n",
    "                if( row[i]!=None):\n",
    "                    long=float(row[i])\n",
    "                    lat=float(row[i+1])\n",
    "                    temp.append([lat,long])\n",
    "            temp.pop(0)\n",
    "            self.speed_cord=self.speed_cord.append({'Speed':row['Speed'],'Coord':temp},ignore_index=True)\n",
    "#         self.m=folium.Map(location=[51.048615,-114.070847],zoom_start=10)\n",
    "#         folium.PolyLine(self.speed_cord.iloc[60,1],color='blue').add_to(self.m)\n",
    "#         self.m.save('test.html')\n",
    "                   \n",
    "        \n",
    "    def speed_Analysis(self):\n",
    "        self.speed_per_grid=pd.DataFrame(columns=['Speed','Grid_Location'])\n",
    "       \n",
    "        \n",
    "        for index,row in self.speed.iterrows():\n",
    "#             temp=[[]]\n",
    "            \n",
    "#             print(\"Row \",index,\"Speed\",row['Speed'])\n",
    "            for i in range(1,len(self.speed.columns)-1,2):\n",
    "                if( row[i]!=None):\n",
    "                    long=float(row[i])\n",
    "                    lat=float(row[i+1])\n",
    "                   \n",
    "                    for k in range(1,len(self.grid_coord.columns)):\n",
    "                        max_lat=float(self.grid_coord.iloc[0,k])\n",
    "                        min_lat=float(self.grid_coord.iloc[1,k])\n",
    "                        max_long=float(self.grid_coord.iloc[2,k])\n",
    "                        min_long=float(self.grid_coord.iloc[3,k])\n",
    "                        #NOTE: long logic is in reverse\n",
    "                        if(min_lat<lat and lat<max_lat) and (max_long<long and long<min_long):\n",
    "                            self.speed_per_grid=self.speed_per_grid.append({'Speed':row['Speed'],'Grid_Location':k},ignore_index=True)\n",
    "                else:\n",
    "                    continue\n",
    "        self.speed_per_grid=self.speed_per_grid.astype(int)\n",
    "        self.speed_per_grid=self.speed_per_grid.groupby('Grid_Location').mean().reset_index()\n",
    "        \n",
    "    def volume_Analysis(self):\n",
    "        self.volume_per_grid=pd.DataFrame(columns=['Volume','Grid_Location'])\n",
    "       \n",
    "        for index,row in self.volume.iterrows():\n",
    "            \n",
    "            for i in range(1,len(self.volume.columns)-2,2):#-2 because we have one more addition col in volume df\n",
    "                if( row[i]!=None):\n",
    "                    long=float(row[i])\n",
    "                    lat=float(row[i+1])\n",
    "                    for k in range(1,len(self.grid_coord.columns)):\n",
    "                        max_lat=float(self.grid_coord.iloc[0,k])\n",
    "                        min_lat=float(self.grid_coord.iloc[1,k])\n",
    "                        max_long=float(self.grid_coord.iloc[2,k])\n",
    "                        min_long=float(self.grid_coord.iloc[3,k])\n",
    "                        #NOTE: long logic is in reverse\n",
    "                        if(min_lat<lat and lat<max_lat) and (max_long<long and long<min_long):\n",
    "                            self.volume_per_grid=self.volume_per_grid.append({'Volume':row['Volume'],'Grid_Location':k},ignore_index=True)\n",
    "#                             print(row['Volume'])\n",
    "                else:\n",
    "                    continue\n",
    "        self.volume_per_grid=self.volume_per_grid.astype(int)\n",
    "        self.volume_per_grid=self.volume_per_grid.groupby('Grid_Location').mean().reset_index()\n",
    "        print(self.volume_per_grid)\n",
    "    def camera_Analysis (self):\n",
    "        self.camera_per_grid=pd.DataFrame(columns=['Camera','Grid_Location'])\n",
    "        for index,row in self.camera.iterrows():\n",
    "#             print(row)\n",
    "            long=float(row['longitude'])\n",
    "            lat=float(row['latitude'])\n",
    "            for k in range(1,len(self.grid_coord.columns)):\n",
    "                max_lat=float(self.grid_coord.iloc[0,k])\n",
    "                min_lat=float(self.grid_coord.iloc[1,k])\n",
    "                max_long=float(self.grid_coord.iloc[2,k]) \n",
    "                min_long=float(self.grid_coord.iloc[3,k])\n",
    "                if(min_lat<lat and lat<max_lat) and (max_long<long and long<min_long):\n",
    "                    self.camera_per_grid=self.camera_per_grid.append({'Camera':1,'Grid_Location':k},ignore_index=True)\n",
    "            \n",
    "        self.camera_per_grid=self.camera_per_grid.astype(int)\n",
    "        self.camera_per_grid=self.camera_per_grid.groupby('Grid_Location').sum().reset_index()\n",
    "#         print(self.camera_per_grid)\n",
    "    def incident_Analysis(self):\n",
    "        self.incident_per_grid=pd.DataFrame(columns=['Incident','Grid_Location'])\n",
    "        for index,row in self.incident.iterrows():\n",
    "#             print(row)\n",
    "            long=float(row['Longitude'])\n",
    "            lat=float(row['Latitude'])\n",
    "            for k in range(1,len(self.grid_coord.columns)):\n",
    "                max_lat=float(self.grid_coord.iloc[0,k])\n",
    "                min_lat=float(self.grid_coord.iloc[1,k])\n",
    "                max_long=float(self.grid_coord.iloc[2,k]) \n",
    "                min_long=float(self.grid_coord.iloc[3,k])\n",
    "                if(min_lat<lat and lat<max_lat) and (max_long<long and long<min_long):\n",
    "                    self.incident_per_grid=self.incident_per_grid.append({'Incident':row['Count'],'Grid_Location':k},ignore_index=True)\n",
    "        self.incident_per_grid=self.incident_per_grid.astype(int)\n",
    "        self.incident_per_grid=self.incident_per_grid.groupby('Grid_Location').mean().reset_index()\n",
    "#         print(self.camera_per_grid)\n",
    "#         print(self.incident_per_grid)\n",
    "    def signal_Analysis(self):\n",
    "        self.signal_per_grid=pd.DataFrame(columns=['Signal','Grid_Location'])\n",
    "        for index,row in self.signal.iterrows():\n",
    "#             print(row)\n",
    "            long=float(row['Longitude'])\n",
    "            lat=float(row['Latitude'])\n",
    "            for k in range(1,len(self.grid_coord.columns)):\n",
    "                max_lat=float(self.grid_coord.iloc[0,k])\n",
    "                min_lat=float(self.grid_coord.iloc[1,k])\n",
    "                max_long=float(self.grid_coord.iloc[2,k]) \n",
    "                min_long=float(self.grid_coord.iloc[3,k])\n",
    "                if(min_lat<lat and lat<max_lat) and (max_long<long and long<min_long):\n",
    "                    self.signal_per_grid=self.signal_per_grid.append({'Signal':row['Count'],'Grid_Location':k},ignore_index=True)\n",
    "        self.signal_per_grid=self.signal_per_grid.astype(int)\n",
    "        self.signal_per_grid=self.signal_per_grid.groupby('Grid_Location').sum().reset_index()\n",
    "#         print(self.signal_per_grid)\n",
    "    def sign_Analysis(self):\n",
    "        self.sign_per_grid=pd.DataFrame(columns=['Sign','Grid_Location'])\n",
    "        for index,row in self.sign.iterrows():\n",
    "#             print(row)\n",
    "            long=float(row[1])\n",
    "            lat=float(row[2])\n",
    "            for k in range(1,len(self.grid_coord.columns)):\n",
    "                max_lat=float(self.grid_coord.iloc[0,k])\n",
    "                min_lat=float(self.grid_coord.iloc[1,k])\n",
    "                max_long=float(self.grid_coord.iloc[2,k]) \n",
    "                min_long=float(self.grid_coord.iloc[3,k])\n",
    "                if(min_lat<lat and lat<max_lat) and (max_long<long and long<min_long):\n",
    "                    self.sign_per_grid=self.sign_per_grid.append({'Sign':row['Count'],'Grid_Location':k},ignore_index=True)\n",
    "        self.sign_per_grid=self.sign_per_grid.astype(int)\n",
    "        self.sign_per_grid=self.sign_per_grid.groupby('Grid_Location').sum().reset_index()\n",
    "#         print(self.sign_per_grid)\n",
    "    def merge_Data(self):\n",
    "#         print(self.weather.iloc[1,1],\" vis:\",self.weather.iloc[1,2])\n",
    "        ##merged camera & signal\n",
    "        df1=pd.merge(self.camera_per_grid,self.signal_per_grid,how='outer',on=['Grid_Location'])\n",
    "        ## merged speed & volume\n",
    "        df2=pd.merge(self.speed_per_grid,self.volume_per_grid,how='outer',on=['Grid_Location'])\n",
    "        ## merged incident & sign\n",
    "        df3=pd.merge(self.incident_per_grid,self.sign_per_grid,how='outer',on=['Grid_Location'])\n",
    "        ## mege df1 and df2\n",
    "        df4=pd.merge(df1,df2,how='outer',on=['Grid_Location'])\n",
    "        ## final merge df4 and df 3\n",
    "        self.stats_per_grid=pd.merge(df4,df3,how='outer',on=['Grid_Location'])\n",
    "        self.stats_per_grid['Temp (C)']=self.weather.iloc[1,1]\n",
    "        self.stats_per_grid['Visibility (km)']=self.weather.iloc[1,2]\n",
    "#         print(df1)\n",
    "    def get_Stats_per_Grid(self):\n",
    "        return self.stats_per_grid\n",
    "    def get_Speed_Coord (self):\n",
    "        return self.speed_cord\n",
    "        \n",
    "        \n",
    "        \n",
    "        \n"
   ]
  },
  {
   "cell_type": "markdown",
   "metadata": {},
   "source": [
    "**Data Visualization Class**"
   ]
  },
  {
   "cell_type": "code",
   "execution_count": 72,
   "metadata": {},
   "outputs": [],
   "source": [
    "class Visualize():\n",
    "    def __init__(self,map,data,speed_cord,volume,grid_coord):\n",
    "        self.map=map\n",
    "        self.data=data\n",
    "        self.speed_cord=speed_cord\n",
    "        self.volume=volume\n",
    "        self.grid_coord=grid_coord\n",
    "        self.draw_Speed_Map()\n",
    "        self.heat_map()\n",
    "        self.draw_Stats_Map()\n",
    "    def draw_Stats_Map(self):\n",
    "        for index,row in self.data.iterrows():\n",
    "            max_lat=float(self.grid_coord.iloc[0,int(row['Grid_Location'])])\n",
    "            min_lat=float(self.grid_coord.iloc[1,int(row['Grid_Location'])])\n",
    "            max_long=float(self.grid_coord.iloc[2,int(row['Grid_Location'])]) \n",
    "            min_long=float(self.grid_coord.iloc[3,int(row['Grid_Location'])])\n",
    "            folium.Marker(location=[(max_lat+min_lat)/2,(max_long+min_long)/2],popup=\"Camera: {} \\n Signal: {} \\n Speed: {} \\n Volume: {} \\n Incident: {} \\n Sign: {} \\n Temp: {} \\n Visibility: {}\".format(row['Camera'],row['Signal'],row['Speed'],row['Volume'],row['Incident'],row['Sign'],row['Temp (C)'],row['Visibility (km)'])).add_to(self.map)\n",
    "#             print(\"Camera: {} \\n Signal: {} \\n Speed: {} \\n Volume: {} \\n Incident: {} \\n Sign: {} \\n Temp: {} \\n Visibility: {}\".format(row['Camera'],row['Signal'],row['Speed'],row['Volume'],row['Incident'],row['Sign'],row['Temp (C)'],row['Visibility (km)']))\n",
    "#             break\n",
    "        self.map.save('test.html')\n",
    "    def draw_Speed_Map(self):\n",
    "        self.speed_Map=folium.Map(location=[51.048615,-114.070847],zoom_start=10)\n",
    "        lis=list(self.speed_cord['Speed'].unique())\n",
    "        color=['gray', 'blue', 'green', 'purple', 'orange', 'darkred', 'lightred', 'beige','red','pink','black']\n",
    "        combo={}\n",
    "        for i in range(len(lis)):\n",
    "            combo[lis[i]]=color[i]\n",
    "        for index,row in self.speed_cord.iterrows():\n",
    "            folium.PolyLine(row['Coord'],color=combo[row['Speed']]).add_to(self.speed_Map)\n",
    "        self.speed_Map.save('Speed_Map.html')\n",
    "    def heat_map(self):\n",
    "        self.heat_map = folium.Map(location=[51.048615,-114.070847],zoom_start = 13) \n",
    "\n",
    "        # Ensure you're handing it floats\n",
    "        self.volume[1] = self.volume[1].astype(float)\n",
    "        self.volume[2] = self.volume[2].astype(float)\n",
    "        self.volume['Volume'] = self.volume['Volume'].astype(float)\n",
    "        self.volume['Volume']= self.volume['Volume']/self.volume['Volume'].mean()\n",
    "        # Filter the DF for rows, then columns, then remove NaNs\n",
    "        heat_df = self.volume[[2,1,'Volume']]\n",
    "        # List comprehension to make out list of lists\n",
    "        heat_data = [[row[2], row[1],row['Volume']] for index, row in heat_df.iterrows()]\n",
    "\n",
    "        # Plot it on the map\n",
    "        folium.plugins.HeatMap(heat_data, radius = 30).add_to(self.heat_map)\n",
    "        self.heat_map.save('heat_map.html')\n",
    "        #return self.heat_map\n",
    "            \n"
   ]
  },
  {
   "cell_type": "markdown",
   "metadata": {
    "pycharm": {
     "name": "#%% md\n"
    }
   },
   "source": [
    "**Main Code**"
   ]
  },
  {
   "cell_type": "code",
   "execution_count": 58,
   "metadata": {},
   "outputs": [],
   "source": [
    "road=Road_Features()\n",
    "speed=road.get_Speed()\n",
    "camera=road.get_Camera()\n",
    "incident=road.get_Incident()\n",
    "signal=road.get_Signal()\n",
    "sign=road.get_Sign()\n",
    "volume=road.get_Volume()\n",
    "weather=Weather_Features().download_weather_data()\n"
   ]
  },
  {
   "cell_type": "code",
   "execution_count": 94,
   "metadata": {},
   "outputs": [
    {
     "data": {
      "text/html": [
       "<div>\n",
       "<style scoped>\n",
       "    .dataframe tbody tr th:only-of-type {\n",
       "        vertical-align: middle;\n",
       "    }\n",
       "\n",
       "    .dataframe tbody tr th {\n",
       "        vertical-align: top;\n",
       "    }\n",
       "\n",
       "    .dataframe thead th {\n",
       "        text-align: right;\n",
       "    }\n",
       "</style>\n",
       "<table border=\"1\" class=\"dataframe\">\n",
       "  <thead>\n",
       "    <tr style=\"text-align: right;\">\n",
       "      <th></th>\n",
       "      <th>Temp (C)</th>\n",
       "      <th>Visibility (km)</th>\n",
       "    </tr>\n",
       "    <tr>\n",
       "      <th>Date/Time</th>\n",
       "      <th></th>\n",
       "      <th></th>\n",
       "    </tr>\n",
       "  </thead>\n",
       "  <tbody>\n",
       "    <tr>\n",
       "      <th>2018-01-01</th>\n",
       "      <td>-16.683333</td>\n",
       "      <td>42.570833</td>\n",
       "    </tr>\n",
       "    <tr>\n",
       "      <th>2018-01-02</th>\n",
       "      <td>-3.787500</td>\n",
       "      <td>40.891667</td>\n",
       "    </tr>\n",
       "    <tr>\n",
       "      <th>2018-01-03</th>\n",
       "      <td>-2.391667</td>\n",
       "      <td>39.212500</td>\n",
       "    </tr>\n",
       "    <tr>\n",
       "      <th>2018-01-04</th>\n",
       "      <td>-5.016667</td>\n",
       "      <td>40.891667</td>\n",
       "    </tr>\n",
       "    <tr>\n",
       "      <th>2018-01-05</th>\n",
       "      <td>-0.345833</td>\n",
       "      <td>40.891667</td>\n",
       "    </tr>\n",
       "    <tr>\n",
       "      <th>2018-01-06</th>\n",
       "      <td>3.666667</td>\n",
       "      <td>39.550000</td>\n",
       "    </tr>\n",
       "    <tr>\n",
       "      <th>2018-01-07</th>\n",
       "      <td>-0.166667</td>\n",
       "      <td>40.020833</td>\n",
       "    </tr>\n",
       "    <tr>\n",
       "      <th>2018-01-08</th>\n",
       "      <td>1.475000</td>\n",
       "      <td>39.212500</td>\n",
       "    </tr>\n",
       "    <tr>\n",
       "      <th>2018-01-09</th>\n",
       "      <td>-9.854167</td>\n",
       "      <td>16.370833</td>\n",
       "    </tr>\n",
       "    <tr>\n",
       "      <th>2018-01-10</th>\n",
       "      <td>-21.625000</td>\n",
       "      <td>10.587500</td>\n",
       "    </tr>\n",
       "    <tr>\n",
       "      <th>2018-01-11</th>\n",
       "      <td>-25.233333</td>\n",
       "      <td>9.316667</td>\n",
       "    </tr>\n",
       "    <tr>\n",
       "      <th>2018-01-12</th>\n",
       "      <td>-20.945833</td>\n",
       "      <td>28.654167</td>\n",
       "    </tr>\n",
       "    <tr>\n",
       "      <th>2018-01-13</th>\n",
       "      <td>-4.762500</td>\n",
       "      <td>39.695833</td>\n",
       "    </tr>\n",
       "    <tr>\n",
       "      <th>2018-01-14</th>\n",
       "      <td>-3.687500</td>\n",
       "      <td>15.904167</td>\n",
       "    </tr>\n",
       "    <tr>\n",
       "      <th>2018-01-15</th>\n",
       "      <td>-8.475000</td>\n",
       "      <td>7.070833</td>\n",
       "    </tr>\n",
       "    <tr>\n",
       "      <th>2018-01-16</th>\n",
       "      <td>0.366667</td>\n",
       "      <td>36.879167</td>\n",
       "    </tr>\n",
       "    <tr>\n",
       "      <th>2018-01-17</th>\n",
       "      <td>2.150000</td>\n",
       "      <td>40.891667</td>\n",
       "    </tr>\n",
       "    <tr>\n",
       "      <th>2018-01-18</th>\n",
       "      <td>3.225000</td>\n",
       "      <td>30.816667</td>\n",
       "    </tr>\n",
       "    <tr>\n",
       "      <th>2018-01-19</th>\n",
       "      <td>0.304167</td>\n",
       "      <td>41.229167</td>\n",
       "    </tr>\n",
       "    <tr>\n",
       "      <th>2018-01-20</th>\n",
       "      <td>0.575000</td>\n",
       "      <td>41.562500</td>\n",
       "    </tr>\n",
       "    <tr>\n",
       "      <th>2018-01-21</th>\n",
       "      <td>-1.529167</td>\n",
       "      <td>40.891667</td>\n",
       "    </tr>\n",
       "    <tr>\n",
       "      <th>2018-01-22</th>\n",
       "      <td>0.091667</td>\n",
       "      <td>36.195833</td>\n",
       "    </tr>\n",
       "    <tr>\n",
       "      <th>2018-01-23</th>\n",
       "      <td>-4.104167</td>\n",
       "      <td>37.537500</td>\n",
       "    </tr>\n",
       "    <tr>\n",
       "      <th>2018-01-24</th>\n",
       "      <td>-2.275000</td>\n",
       "      <td>34.654167</td>\n",
       "    </tr>\n",
       "    <tr>\n",
       "      <th>2018-01-25</th>\n",
       "      <td>-7.730435</td>\n",
       "      <td>11.334783</td>\n",
       "    </tr>\n",
       "    <tr>\n",
       "      <th>2018-01-26</th>\n",
       "      <td>-10.733333</td>\n",
       "      <td>29.429167</td>\n",
       "    </tr>\n",
       "    <tr>\n",
       "      <th>2018-01-27</th>\n",
       "      <td>-15.054167</td>\n",
       "      <td>11.150000</td>\n",
       "    </tr>\n",
       "    <tr>\n",
       "      <th>2018-01-28</th>\n",
       "      <td>-16.550000</td>\n",
       "      <td>21.187500</td>\n",
       "    </tr>\n",
       "    <tr>\n",
       "      <th>2018-01-29</th>\n",
       "      <td>-5.091667</td>\n",
       "      <td>34.070833</td>\n",
       "    </tr>\n",
       "    <tr>\n",
       "      <th>2018-01-30</th>\n",
       "      <td>0.570833</td>\n",
       "      <td>39.604167</td>\n",
       "    </tr>\n",
       "    <tr>\n",
       "      <th>2018-01-31</th>\n",
       "      <td>-16.087500</td>\n",
       "      <td>9.725000</td>\n",
       "    </tr>\n",
       "  </tbody>\n",
       "</table>\n",
       "</div>"
      ],
      "text/plain": [
       "             Temp (C)  Visibility (km)\n",
       "Date/Time                             \n",
       "2018-01-01 -16.683333        42.570833\n",
       "2018-01-02  -3.787500        40.891667\n",
       "2018-01-03  -2.391667        39.212500\n",
       "2018-01-04  -5.016667        40.891667\n",
       "2018-01-05  -0.345833        40.891667\n",
       "2018-01-06   3.666667        39.550000\n",
       "2018-01-07  -0.166667        40.020833\n",
       "2018-01-08   1.475000        39.212500\n",
       "2018-01-09  -9.854167        16.370833\n",
       "2018-01-10 -21.625000        10.587500\n",
       "2018-01-11 -25.233333         9.316667\n",
       "2018-01-12 -20.945833        28.654167\n",
       "2018-01-13  -4.762500        39.695833\n",
       "2018-01-14  -3.687500        15.904167\n",
       "2018-01-15  -8.475000         7.070833\n",
       "2018-01-16   0.366667        36.879167\n",
       "2018-01-17   2.150000        40.891667\n",
       "2018-01-18   3.225000        30.816667\n",
       "2018-01-19   0.304167        41.229167\n",
       "2018-01-20   0.575000        41.562500\n",
       "2018-01-21  -1.529167        40.891667\n",
       "2018-01-22   0.091667        36.195833\n",
       "2018-01-23  -4.104167        37.537500\n",
       "2018-01-24  -2.275000        34.654167\n",
       "2018-01-25  -7.730435        11.334783\n",
       "2018-01-26 -10.733333        29.429167\n",
       "2018-01-27 -15.054167        11.150000\n",
       "2018-01-28 -16.550000        21.187500\n",
       "2018-01-29  -5.091667        34.070833\n",
       "2018-01-30   0.570833        39.604167\n",
       "2018-01-31 -16.087500         9.725000"
      ]
     },
     "execution_count": 94,
     "metadata": {},
     "output_type": "execute_result"
    }
   ],
   "source": [
    "weather=Weather_Features().download_weather_data()\n",
    "weather"
   ]
  },
  {
   "cell_type": "code",
   "execution_count": 8,
   "metadata": {},
   "outputs": [],
   "source": [
    "map=Map()"
   ]
  },
  {
   "cell_type": "code",
   "execution_count": 9,
   "metadata": {},
   "outputs": [],
   "source": [
    "m=map.get_map()"
   ]
  },
  {
   "cell_type": "code",
   "execution_count": 10,
   "metadata": {},
   "outputs": [],
   "source": [
    "grid_coord=map.get_Grid_Coord()\n"
   ]
  },
  {
   "cell_type": "code",
   "execution_count": 11,
   "metadata": {},
   "outputs": [
    {
     "name": "stdout",
     "output_type": "stream",
     "text": [
      "    Grid_Location        Volume\n",
      "0               1   3935.483871\n",
      "1               2   4842.105263\n",
      "2               3   5068.100358\n",
      "3               4   1961.206897\n",
      "4               5   5485.294118\n",
      "..            ...           ...\n",
      "70             89   9000.000000\n",
      "71             94   2000.000000\n",
      "72             95   2509.433962\n",
      "73             96  11914.826498\n",
      "74             97  17805.128205\n",
      "\n",
      "[75 rows x 2 columns]\n"
     ]
    }
   ],
   "source": [
    "dataAnalysis=Data_Analysis(speed,camera,incident,signal,sign,volume,weather,grid_coord)"
   ]
  },
  {
   "cell_type": "code",
   "execution_count": 12,
   "metadata": {},
   "outputs": [],
   "source": [
    "stats_per_grid=dataAnalysis.get_Stats_per_Grid()\n",
    "stats_per_grid=stats_per_grid.replace(np.NaN,0)\n",
    "speed_cord=dataAnalysis.get_Speed_Coord()\n"
   ]
  },
  {
   "cell_type": "code",
   "execution_count": 66,
   "metadata": {
    "scrolled": true
   },
   "outputs": [
    {
     "data": {
      "text/html": [
       "<div>\n",
       "<style scoped>\n",
       "    .dataframe tbody tr th:only-of-type {\n",
       "        vertical-align: middle;\n",
       "    }\n",
       "\n",
       "    .dataframe tbody tr th {\n",
       "        vertical-align: top;\n",
       "    }\n",
       "\n",
       "    .dataframe thead th {\n",
       "        text-align: right;\n",
       "    }\n",
       "</style>\n",
       "<table border=\"1\" class=\"dataframe\">\n",
       "  <thead>\n",
       "    <tr style=\"text-align: right;\">\n",
       "      <th></th>\n",
       "      <th>Grid_Location</th>\n",
       "      <th>Camera</th>\n",
       "      <th>Signal</th>\n",
       "      <th>Speed</th>\n",
       "      <th>Volume</th>\n",
       "      <th>Incident</th>\n",
       "      <th>Sign</th>\n",
       "      <th>Temp (C)</th>\n",
       "      <th>Visibility (km)</th>\n",
       "    </tr>\n",
       "  </thead>\n",
       "  <tbody>\n",
       "    <tr>\n",
       "      <th>55</th>\n",
       "      <td>1</td>\n",
       "      <td>0.0</td>\n",
       "      <td>0.0</td>\n",
       "      <td>80.000000</td>\n",
       "      <td>3935.483871</td>\n",
       "      <td>0.000000</td>\n",
       "      <td>4.0</td>\n",
       "      <td>-6.117362</td>\n",
       "      <td>30.606595</td>\n",
       "    </tr>\n",
       "    <tr>\n",
       "      <th>56</th>\n",
       "      <td>2</td>\n",
       "      <td>0.0</td>\n",
       "      <td>0.0</td>\n",
       "      <td>71.184211</td>\n",
       "      <td>4842.105263</td>\n",
       "      <td>0.000000</td>\n",
       "      <td>28.0</td>\n",
       "      <td>-6.117362</td>\n",
       "      <td>30.606595</td>\n",
       "    </tr>\n",
       "    <tr>\n",
       "      <th>57</th>\n",
       "      <td>3</td>\n",
       "      <td>0.0</td>\n",
       "      <td>0.0</td>\n",
       "      <td>64.000000</td>\n",
       "      <td>5068.100358</td>\n",
       "      <td>1.100000</td>\n",
       "      <td>268.0</td>\n",
       "      <td>-6.117362</td>\n",
       "      <td>30.606595</td>\n",
       "    </tr>\n",
       "    <tr>\n",
       "      <th>58</th>\n",
       "      <td>4</td>\n",
       "      <td>0.0</td>\n",
       "      <td>0.0</td>\n",
       "      <td>60.000000</td>\n",
       "      <td>1961.206897</td>\n",
       "      <td>2.000000</td>\n",
       "      <td>196.0</td>\n",
       "      <td>-6.117362</td>\n",
       "      <td>30.606595</td>\n",
       "    </tr>\n",
       "    <tr>\n",
       "      <th>59</th>\n",
       "      <td>5</td>\n",
       "      <td>0.0</td>\n",
       "      <td>0.0</td>\n",
       "      <td>68.205128</td>\n",
       "      <td>5485.294118</td>\n",
       "      <td>1.000000</td>\n",
       "      <td>47.0</td>\n",
       "      <td>-6.117362</td>\n",
       "      <td>30.606595</td>\n",
       "    </tr>\n",
       "    <tr>\n",
       "      <th>...</th>\n",
       "      <td>...</td>\n",
       "      <td>...</td>\n",
       "      <td>...</td>\n",
       "      <td>...</td>\n",
       "      <td>...</td>\n",
       "      <td>...</td>\n",
       "      <td>...</td>\n",
       "      <td>...</td>\n",
       "      <td>...</td>\n",
       "    </tr>\n",
       "    <tr>\n",
       "      <th>35</th>\n",
       "      <td>95</td>\n",
       "      <td>1.0</td>\n",
       "      <td>1.0</td>\n",
       "      <td>55.063291</td>\n",
       "      <td>2509.433962</td>\n",
       "      <td>1.400000</td>\n",
       "      <td>59.0</td>\n",
       "      <td>-6.117362</td>\n",
       "      <td>30.606595</td>\n",
       "    </tr>\n",
       "    <tr>\n",
       "      <th>36</th>\n",
       "      <td>96</td>\n",
       "      <td>1.0</td>\n",
       "      <td>5.0</td>\n",
       "      <td>68.580060</td>\n",
       "      <td>11914.826498</td>\n",
       "      <td>1.416667</td>\n",
       "      <td>498.0</td>\n",
       "      <td>-6.117362</td>\n",
       "      <td>30.606595</td>\n",
       "    </tr>\n",
       "    <tr>\n",
       "      <th>54</th>\n",
       "      <td>97</td>\n",
       "      <td>0.0</td>\n",
       "      <td>2.0</td>\n",
       "      <td>80.445545</td>\n",
       "      <td>17805.128205</td>\n",
       "      <td>1.000000</td>\n",
       "      <td>213.0</td>\n",
       "      <td>-6.117362</td>\n",
       "      <td>30.606595</td>\n",
       "    </tr>\n",
       "    <tr>\n",
       "      <th>80</th>\n",
       "      <td>98</td>\n",
       "      <td>0.0</td>\n",
       "      <td>0.0</td>\n",
       "      <td>0.000000</td>\n",
       "      <td>0.000000</td>\n",
       "      <td>0.000000</td>\n",
       "      <td>4.0</td>\n",
       "      <td>-6.117362</td>\n",
       "      <td>30.606595</td>\n",
       "    </tr>\n",
       "    <tr>\n",
       "      <th>81</th>\n",
       "      <td>99</td>\n",
       "      <td>0.0</td>\n",
       "      <td>0.0</td>\n",
       "      <td>0.000000</td>\n",
       "      <td>0.000000</td>\n",
       "      <td>0.000000</td>\n",
       "      <td>1.0</td>\n",
       "      <td>-6.117362</td>\n",
       "      <td>30.606595</td>\n",
       "    </tr>\n",
       "  </tbody>\n",
       "</table>\n",
       "<p>82 rows × 9 columns</p>\n",
       "</div>"
      ],
      "text/plain": [
       "    Grid_Location  Camera  Signal      Speed        Volume  Incident   Sign  \\\n",
       "55              1     0.0     0.0  80.000000   3935.483871  0.000000    4.0   \n",
       "56              2     0.0     0.0  71.184211   4842.105263  0.000000   28.0   \n",
       "57              3     0.0     0.0  64.000000   5068.100358  1.100000  268.0   \n",
       "58              4     0.0     0.0  60.000000   1961.206897  2.000000  196.0   \n",
       "59              5     0.0     0.0  68.205128   5485.294118  1.000000   47.0   \n",
       "..            ...     ...     ...        ...           ...       ...    ...   \n",
       "35             95     1.0     1.0  55.063291   2509.433962  1.400000   59.0   \n",
       "36             96     1.0     5.0  68.580060  11914.826498  1.416667  498.0   \n",
       "54             97     0.0     2.0  80.445545  17805.128205  1.000000  213.0   \n",
       "80             98     0.0     0.0   0.000000      0.000000  0.000000    4.0   \n",
       "81             99     0.0     0.0   0.000000      0.000000  0.000000    1.0   \n",
       "\n",
       "    Temp (C)  Visibility (km)  \n",
       "55 -6.117362        30.606595  \n",
       "56 -6.117362        30.606595  \n",
       "57 -6.117362        30.606595  \n",
       "58 -6.117362        30.606595  \n",
       "59 -6.117362        30.606595  \n",
       "..       ...              ...  \n",
       "35 -6.117362        30.606595  \n",
       "36 -6.117362        30.606595  \n",
       "54 -6.117362        30.606595  \n",
       "80 -6.117362        30.606595  \n",
       "81 -6.117362        30.606595  \n",
       "\n",
       "[82 rows x 9 columns]"
      ]
     },
     "execution_count": 66,
     "metadata": {},
     "output_type": "execute_result"
    }
   ],
   "source": [
    "stats_per_grid = stats_per_grid.sort_values('Grid_Location')\n",
    "stats_per_grid"
   ]
  },
  {
   "cell_type": "code",
   "execution_count": 25,
   "metadata": {},
   "outputs": [
    {
     "data": {
      "text/plain": [
       "<AxesSubplot:>"
      ]
     },
     "execution_count": 25,
     "metadata": {},
     "output_type": "execute_result"
    },
    {
     "data": {
      "image/png": "[encoded data removed]",
      "text/plain": [
       "<Figure size 432x288 with 2 Axes>"
      ]
     },
     "metadata": {
      "needs_background": "light"
     },
     "output_type": "display_data"
    }
   ],
   "source": [
    "corr = stats_per_grid[['Volume','Incident']].corr()\n",
    "sns.heatmap(corr, annot =True)\n"
   ]
  },
  {
   "cell_type": "markdown",
   "metadata": {},
   "source": [
    "**Spearman Correlation between grid data**"
   ]
  },
  {
   "cell_type": "code",
   "execution_count": 67,
   "metadata": {},
   "outputs": [
    {
     "data": {
      "text/html": [
       "<div>\n",
       "<style scoped>\n",
       "    .dataframe tbody tr th:only-of-type {\n",
       "        vertical-align: middle;\n",
       "    }\n",
       "\n",
       "    .dataframe tbody tr th {\n",
       "        vertical-align: top;\n",
       "    }\n",
       "\n",
       "    .dataframe thead th {\n",
       "        text-align: right;\n",
       "    }\n",
       "</style>\n",
       "<table border=\"1\" class=\"dataframe\">\n",
       "  <thead>\n",
       "    <tr style=\"text-align: right;\">\n",
       "      <th></th>\n",
       "      <th>Grid_Location</th>\n",
       "      <th>Camera</th>\n",
       "      <th>Signal</th>\n",
       "      <th>Speed</th>\n",
       "      <th>Volume</th>\n",
       "      <th>Incident</th>\n",
       "      <th>Sign</th>\n",
       "      <th>Temp (C)</th>\n",
       "      <th>Visibility (km)</th>\n",
       "    </tr>\n",
       "  </thead>\n",
       "  <tbody>\n",
       "    <tr>\n",
       "      <th>Grid_Location</th>\n",
       "      <td>1.000000</td>\n",
       "      <td>0.095359</td>\n",
       "      <td>0.013270</td>\n",
       "      <td>-0.147166</td>\n",
       "      <td>-0.213243</td>\n",
       "      <td>-0.006741</td>\n",
       "      <td>0.004299</td>\n",
       "      <td>NaN</td>\n",
       "      <td>NaN</td>\n",
       "    </tr>\n",
       "    <tr>\n",
       "      <th>Camera</th>\n",
       "      <td>0.095359</td>\n",
       "      <td>1.000000</td>\n",
       "      <td>0.790989</td>\n",
       "      <td>0.033679</td>\n",
       "      <td>0.479390</td>\n",
       "      <td>0.435741</td>\n",
       "      <td>0.697308</td>\n",
       "      <td>NaN</td>\n",
       "      <td>NaN</td>\n",
       "    </tr>\n",
       "    <tr>\n",
       "      <th>Signal</th>\n",
       "      <td>0.013270</td>\n",
       "      <td>0.790989</td>\n",
       "      <td>1.000000</td>\n",
       "      <td>-0.004018</td>\n",
       "      <td>0.541730</td>\n",
       "      <td>0.510779</td>\n",
       "      <td>0.918836</td>\n",
       "      <td>NaN</td>\n",
       "      <td>NaN</td>\n",
       "    </tr>\n",
       "    <tr>\n",
       "      <th>Speed</th>\n",
       "      <td>-0.147166</td>\n",
       "      <td>0.033679</td>\n",
       "      <td>-0.004018</td>\n",
       "      <td>1.000000</td>\n",
       "      <td>0.289051</td>\n",
       "      <td>0.267016</td>\n",
       "      <td>-0.069820</td>\n",
       "      <td>NaN</td>\n",
       "      <td>NaN</td>\n",
       "    </tr>\n",
       "    <tr>\n",
       "      <th>Volume</th>\n",
       "      <td>-0.213243</td>\n",
       "      <td>0.479390</td>\n",
       "      <td>0.541730</td>\n",
       "      <td>0.289051</td>\n",
       "      <td>1.000000</td>\n",
       "      <td>0.597935</td>\n",
       "      <td>0.482444</td>\n",
       "      <td>NaN</td>\n",
       "      <td>NaN</td>\n",
       "    </tr>\n",
       "    <tr>\n",
       "      <th>Incident</th>\n",
       "      <td>-0.006741</td>\n",
       "      <td>0.435741</td>\n",
       "      <td>0.510779</td>\n",
       "      <td>0.267016</td>\n",
       "      <td>0.597935</td>\n",
       "      <td>1.000000</td>\n",
       "      <td>0.456521</td>\n",
       "      <td>NaN</td>\n",
       "      <td>NaN</td>\n",
       "    </tr>\n",
       "    <tr>\n",
       "      <th>Sign</th>\n",
       "      <td>0.004299</td>\n",
       "      <td>0.697308</td>\n",
       "      <td>0.918836</td>\n",
       "      <td>-0.069820</td>\n",
       "      <td>0.482444</td>\n",
       "      <td>0.456521</td>\n",
       "      <td>1.000000</td>\n",
       "      <td>NaN</td>\n",
       "      <td>NaN</td>\n",
       "    </tr>\n",
       "    <tr>\n",
       "      <th>Temp (C)</th>\n",
       "      <td>NaN</td>\n",
       "      <td>NaN</td>\n",
       "      <td>NaN</td>\n",
       "      <td>NaN</td>\n",
       "      <td>NaN</td>\n",
       "      <td>NaN</td>\n",
       "      <td>NaN</td>\n",
       "      <td>NaN</td>\n",
       "      <td>NaN</td>\n",
       "    </tr>\n",
       "    <tr>\n",
       "      <th>Visibility (km)</th>\n",
       "      <td>NaN</td>\n",
       "      <td>NaN</td>\n",
       "      <td>NaN</td>\n",
       "      <td>NaN</td>\n",
       "      <td>NaN</td>\n",
       "      <td>NaN</td>\n",
       "      <td>NaN</td>\n",
       "      <td>NaN</td>\n",
       "      <td>NaN</td>\n",
       "    </tr>\n",
       "  </tbody>\n",
       "</table>\n",
       "</div>"
      ],
      "text/plain": [
       "                 Grid_Location    Camera    Signal     Speed    Volume  \\\n",
       "Grid_Location         1.000000  0.095359  0.013270 -0.147166 -0.213243   \n",
       "Camera                0.095359  1.000000  0.790989  0.033679  0.479390   \n",
       "Signal                0.013270  0.790989  1.000000 -0.004018  0.541730   \n",
       "Speed                -0.147166  0.033679 -0.004018  1.000000  0.289051   \n",
       "Volume               -0.213243  0.479390  0.541730  0.289051  1.000000   \n",
       "Incident             -0.006741  0.435741  0.510779  0.267016  0.597935   \n",
       "Sign                  0.004299  0.697308  0.918836 -0.069820  0.482444   \n",
       "Temp (C)                   NaN       NaN       NaN       NaN       NaN   \n",
       "Visibility (km)            NaN       NaN       NaN       NaN       NaN   \n",
       "\n",
       "                 Incident      Sign  Temp (C)  Visibility (km)  \n",
       "Grid_Location   -0.006741  0.004299       NaN              NaN  \n",
       "Camera           0.435741  0.697308       NaN              NaN  \n",
       "Signal           0.510779  0.918836       NaN              NaN  \n",
       "Speed            0.267016 -0.069820       NaN              NaN  \n",
       "Volume           0.597935  0.482444       NaN              NaN  \n",
       "Incident         1.000000  0.456521       NaN              NaN  \n",
       "Sign             0.456521  1.000000       NaN              NaN  \n",
       "Temp (C)              NaN       NaN       NaN              NaN  \n",
       "Visibility (km)       NaN       NaN       NaN              NaN  "
      ]
     },
     "execution_count": 67,
     "metadata": {},
     "output_type": "execute_result"
    }
   ],
   "source": [
    "temp = stats_per_grid.corr(method='spearman')\n",
    "temp"
   ]
  },
  {
   "cell_type": "code",
   "execution_count": 36,
   "metadata": {},
   "outputs": [
    {
     "name": "stderr",
     "output_type": "stream",
     "text": [
      "/Users/Nalyatem/PycharmProjects/Assignments/venv/lib/python3.8/site-packages/pandas/plotting/_matplotlib/core.py:1235: UserWarning: FixedFormatter should only be used together with FixedLocator\n",
      "  ax.set_xticklabels(xticklabels)\n"
     ]
    },
    {
     "data": {
      "text/plain": [
       "<AxesSubplot:>"
      ]
     },
     "execution_count": 36,
     "metadata": {},
     "output_type": "execute_result"
    },
    {
     "data": {
      "image/png": "[encoded data removed]",
      "text/plain": [
       "<Figure size 432x288 with 1 Axes>"
      ]
     },
     "metadata": {
      "needs_background": "light"
     },
     "output_type": "display_data"
    }
   ],
   "source": [
    "temp[['Incident','Volume']].plot()"
   ]
  },
  {
   "cell_type": "code",
   "execution_count": 77,
   "metadata": {},
   "outputs": [
    {
     "name": "stderr",
     "output_type": "stream",
     "text": [
      "/Users/Nalyatem/PycharmProjects/Assignments/venv/lib/python3.8/site-packages/pandas/plotting/_matplotlib/core.py:1235: UserWarning: FixedFormatter should only be used together with FixedLocator\n",
      "  ax.set_xticklabels(xticklabels)\n"
     ]
    },
    {
     "data": {
      "text/plain": [
       "<AxesSubplot:>"
      ]
     },
     "execution_count": 77,
     "metadata": {},
     "output_type": "execute_result"
    },
    {
     "data": {
      "image/png": "[encoded data removed]",
      "text/plain": [
       "<Figure size 432x288 with 1 Axes>"
      ]
     },
     "metadata": {
      "needs_background": "light"
     },
     "output_type": "display_data"
    }
   ],
   "source": [
    "temp[['Incident','Camera']].plot()"
   ]
  },
  {
   "cell_type": "code",
   "execution_count": 38,
   "metadata": {},
   "outputs": [
    {
     "name": "stderr",
     "output_type": "stream",
     "text": [
      "/Users/Nalyatem/PycharmProjects/Assignments/venv/lib/python3.8/site-packages/pandas/plotting/_matplotlib/core.py:1235: UserWarning: FixedFormatter should only be used together with FixedLocator\n",
      "  ax.set_xticklabels(xticklabels)\n"
     ]
    },
    {
     "data": {
      "text/plain": [
       "<AxesSubplot:>"
      ]
     },
     "execution_count": 38,
     "metadata": {},
     "output_type": "execute_result"
    },
    {
     "data": {
      "image/png": "[encoded data removed]",
      "text/plain": [
       "<Figure size 432x288 with 1 Axes>"
      ]
     },
     "metadata": {
      "needs_background": "light"
     },
     "output_type": "display_data"
    }
   ],
   "source": [
    "temp[['Incident','Speed']].plot()"
   ]
  },
  {
   "cell_type": "code",
   "execution_count": 39,
   "metadata": {},
   "outputs": [
    {
     "name": "stderr",
     "output_type": "stream",
     "text": [
      "/Users/Nalyatem/PycharmProjects/Assignments/venv/lib/python3.8/site-packages/pandas/plotting/_matplotlib/core.py:1235: UserWarning: FixedFormatter should only be used together with FixedLocator\n",
      "  ax.set_xticklabels(xticklabels)\n"
     ]
    },
    {
     "data": {
      "text/plain": [
       "<AxesSubplot:>"
      ]
     },
     "execution_count": 39,
     "metadata": {},
     "output_type": "execute_result"
    },
    {
     "data": {
      "image/png": "[encoded data removed]",
      "text/plain": [
       "<Figure size 432x288 with 1 Axes>"
      ]
     },
     "metadata": {
      "needs_background": "light"
     },
     "output_type": "display_data"
    }
   ],
   "source": [
    "temp[['Incident','Signal']].plot()"
   ]
  },
  {
   "cell_type": "code",
   "execution_count": 40,
   "metadata": {},
   "outputs": [
    {
     "name": "stderr",
     "output_type": "stream",
     "text": [
      "/Users/Nalyatem/PycharmProjects/Assignments/venv/lib/python3.8/site-packages/pandas/plotting/_matplotlib/core.py:1235: UserWarning: FixedFormatter should only be used together with FixedLocator\n",
      "  ax.set_xticklabels(xticklabels)\n"
     ]
    },
    {
     "data": {
      "text/plain": [
       "<AxesSubplot:>"
      ]
     },
     "execution_count": 40,
     "metadata": {},
     "output_type": "execute_result"
    },
    {
     "data": {
      "image/png": "[encoded data removed]",
      "text/plain": [
       "<Figure size 432x288 with 1 Axes>"
      ]
     },
     "metadata": {
      "needs_background": "light"
     },
     "output_type": "display_data"
    }
   ],
   "source": [
    "temp[['Incident','Sign']].plot()"
   ]
  },
  {
   "cell_type": "markdown",
   "metadata": {},
   "source": [
    "## Data interpretation "
   ]
  },
  {
   "cell_type": "markdown",
   "metadata": {},
   "source": [
    "**Plot 1: The number of incidents vs the number of Cameras**\n",
    "\n",
    "This plot shows us the relation between the total number of cameras and the average number of incidents that occured in the City of Calgary. Clearly the data shows as the number of camera increases, the average number of incidents decreases."
   ]
  },
  {
   "cell_type": "code",
   "execution_count": 48,
   "metadata": {},
   "outputs": [
    {
     "data": {
      "text/plain": [
       "<AxesSubplot:xlabel='Camera', ylabel='Incident'>"
      ]
     },
     "execution_count": 48,
     "metadata": {},
     "output_type": "execute_result"
    },
    {
     "data": {
      "image/png": "[encoded data removed]",
      "text/plain": [
       "<Figure size 432x288 with 1 Axes>"
      ]
     },
     "metadata": {
      "needs_background": "light"
     },
     "output_type": "display_data"
    }
   ],
   "source": [
    "sns.regplot(x=\"Camera\", y=\"Incident\", data=stats_per_grid)"
   ]
  },
  {
   "cell_type": "markdown",
   "metadata": {},
   "source": [
    "**Plot 2: The average number of incidents vs volume of cars**\n",
    "    \n",
    "This plot shows us the relation between the volume of cars and the average number of incidents that occured in the City of Calgary. We can observe from the data that the number of cars has a direct affect on the number of incidents on the road. "
   ]
  },
  {
   "cell_type": "code",
   "execution_count": 50,
   "metadata": {},
   "outputs": [
    {
     "data": {
      "text/plain": [
       "<AxesSubplot:xlabel='Volume', ylabel='Incident'>"
      ]
     },
     "execution_count": 50,
     "metadata": {},
     "output_type": "execute_result"
    },
    {
     "data": {
      "image/png": "[encoded data removed]",
      "text/plain": [
       "<Figure size 432x288 with 1 Axes>"
      ]
     },
     "metadata": {
      "needs_background": "light"
     },
     "output_type": "display_data"
    }
   ],
   "source": [
    "sns.regplot(x=\"Volume\", y=\"Incident\", data=stats_per_grid)"
   ]
  },
  {
   "cell_type": "markdown",
   "metadata": {},
   "source": [
    "**Plot 3: The average number of incidents vs speed**\n",
    "\n",
    "This plot shows us the relation between speed and the average number of incidents that occured in the City of Calgary.\n",
    "The plot shoes the positive correlation between the average number of incident and the speed. As the speed increases, the average number of incidents increases as well. "
   ]
  },
  {
   "cell_type": "code",
   "execution_count": 51,
   "metadata": {},
   "outputs": [
    {
     "data": {
      "text/plain": [
       "<AxesSubplot:xlabel='Speed', ylabel='Incident'>"
      ]
     },
     "execution_count": 51,
     "metadata": {},
     "output_type": "execute_result"
    },
    {
     "data": {
      "image/png": "[encoded data removed]",
      "text/plain": [
       "<Figure size 432x288 with 1 Axes>"
      ]
     },
     "metadata": {
      "needs_background": "light"
     },
     "output_type": "display_data"
    }
   ],
   "source": [
    "sns.regplot(x=\"Speed\", y=\"Incident\", data=stats_per_grid)"
   ]
  },
  {
   "cell_type": "markdown",
   "metadata": {},
   "source": [
    "**Plot 4: The average number of incidents vs signs**\n",
    "\n",
    "This plot shows us the relation between number of signs and the average number of incidents that occured in the City of Calgary. The data shows that the number of signs has an overall effect on the average number of incidents. The average is number of incidents is kept constants at approx 1.5 incidents in areas where there are a lot of signs."
   ]
  },
  {
   "cell_type": "code",
   "execution_count": 54,
   "metadata": {},
   "outputs": [
    {
     "data": {
      "text/plain": [
       "<AxesSubplot:xlabel='Sign', ylabel='Incident'>"
      ]
     },
     "execution_count": 54,
     "metadata": {},
     "output_type": "execute_result"
    },
    {
     "data": {
      "image/png": "[encoded data removed]",
      "text/plain": [
       "<Figure size 432x288 with 1 Axes>"
      ]
     },
     "metadata": {
      "needs_background": "light"
     },
     "output_type": "display_data"
    }
   ],
   "source": [
    "sns.regplot(x=\"Sign\", y=\"Incident\", data=stats_per_grid)"
   ]
  },
  {
   "cell_type": "markdown",
   "metadata": {},
   "source": [
    "**Plot 5: The average number of incidents vs signals**\n",
    "\n",
    "This plot shows us the relation between number of signals and the average number of incidents that occured in the City of Calgary. Signals have little effect on the number of incidents."
   ]
  },
  {
   "cell_type": "code",
   "execution_count": 55,
   "metadata": {},
   "outputs": [
    {
     "data": {
      "text/plain": [
       "<AxesSubplot:xlabel='Signal', ylabel='Incident'>"
      ]
     },
     "execution_count": 55,
     "metadata": {},
     "output_type": "execute_result"
    },
    {
     "data": {
      "image/png": "[encoded data removed]",
      "text/plain": [
       "<Figure size 432x288 with 1 Axes>"
      ]
     },
     "metadata": {
      "needs_background": "light"
     },
     "output_type": "display_data"
    }
   ],
   "source": [
    "sns.regplot(x=\"Signal\", y=\"Incident\", data=stats_per_grid)"
   ]
  },
  {
   "cell_type": "code",
   "execution_count": null,
   "metadata": {},
   "outputs": [],
   "source": []
  },
  {
   "cell_type": "code",
   "execution_count": 73,
   "metadata": {},
   "outputs": [
    {
     "data": {
      "text/plain": [
       "<__main__.Visualize at 0x128c8c6a0>"
      ]
     },
     "execution_count": 73,
     "metadata": {},
     "output_type": "execute_result"
    }
   ],
   "source": [
    "draw_stats=Visualize(m,stats_per_grid,speed_cord,volume,grid_coord)"
   ]
  },
  {
   "cell_type": "code",
   "execution_count": null,
   "metadata": {},
   "outputs": [],
   "source": []
  },
  {
   "cell_type": "code",
   "execution_count": null,
   "metadata": {},
   "outputs": [],
   "source": []
  },
  {
   "cell_type": "code",
   "execution_count": 95,
   "metadata": {},
   "outputs": [
    {
     "name": "stdout",
     "output_type": "stream",
     "text": [
      "    Grid_Location  Camera  Signal      Speed        Volume  Incident   Sign  \\\n",
      "55              1     0.0     0.0  80.000000   3935.483871  0.000000    4.0   \n",
      "56              2     0.0     0.0  71.184211   4842.105263  0.000000   28.0   \n",
      "57              3     0.0     0.0  64.000000   5068.100358  1.100000  268.0   \n",
      "58              4     0.0     0.0  60.000000   1961.206897  2.000000  196.0   \n",
      "59              5     0.0     0.0  68.205128   5485.294118  1.000000   47.0   \n",
      "..            ...     ...     ...        ...           ...       ...    ...   \n",
      "35             95     1.0     1.0  55.063291   2509.433962  1.400000   59.0   \n",
      "36             96     1.0     5.0  68.580060  11914.826498  1.416667  498.0   \n",
      "54             97     0.0     2.0  80.445545  17805.128205  1.000000  213.0   \n",
      "80             98     0.0     0.0   0.000000      0.000000  0.000000    4.0   \n",
      "81             99     0.0     0.0   0.000000      0.000000  0.000000    1.0   \n",
      "\n",
      "    Temp (C)  Visibility (km)  \n",
      "55 -6.117362        30.606595  \n",
      "56 -6.117362        30.606595  \n",
      "57 -6.117362        30.606595  \n",
      "58 -6.117362        30.606595  \n",
      "59 -6.117362        30.606595  \n",
      "..       ...              ...  \n",
      "35 -6.117362        30.606595  \n",
      "36 -6.117362        30.606595  \n",
      "54 -6.117362        30.606595  \n",
      "80 -6.117362        30.606595  \n",
      "81 -6.117362        30.606595  \n",
      "\n",
      "[82 rows x 9 columns]\n"
     ]
    }
   ],
   "source": [
    "print(stats_per_grid)"
   ]
  },
  {
   "cell_type": "code",
   "execution_count": 118,
   "metadata": {},
   "outputs": [],
   "source": []
  }
 ],
 "metadata": {
  "kernelspec": {
   "display_name": "Python 3",
   "language": "python",
   "name": "python3"
  },
  "language_info": {
   "codemirror_mode": {
    "name": "ipython",
    "version": 3
   },
   "file_extension": ".py",
   "mimetype": "text/x-python",
   "name": "python",
   "nbconvert_exporter": "python",
   "pygments_lexer": "ipython3",
   "version": "3.8.3"
  }
 },
 "nbformat": 4,
 "nbformat_minor": 1
}
