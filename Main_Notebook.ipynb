{
 "cells": [
  {
   "cell_type": "code",
   "execution_count": 1,
   "metadata": {},
   "outputs": [],
   "source": [
    "import pandas as pd\n",
    "import numpy as np\n",
    "import seaborn as sns\n",
    "import folium\n"
   ]
  },
  {
   "cell_type": "markdown",
   "metadata": {},
   "source": [
    "   # Creating Classes"
   ]
  },
  {
   "cell_type": "markdown",
   "metadata": {},
   "source": [
    "   **Road data handling class**"
   ]
  },
  {
   "cell_type": "code",
   "execution_count": 2,
   "metadata": {},
   "outputs": [],
   "source": [
    "class Road_Features():\n",
    "    \"\"\"\n",
    "    This class reads the csvs of Road data , clean and returen the organized dataFrames\n",
    "    \"\"\"\n",
    "    def __init__(self):\n",
    "        self.Signal_Handling()\n",
    "  \n",
    "        \n",
    "    \n",
    "        self.Speed_Handling()\n",
    "        self.Camera_Handling()\n",
    "        self.Incidents_Handling()\n",
    "        self.Sign_Handling()\n",
    "        self.Volume_Handling()\n",
    "        \n",
    "\n",
    "    def Speed_Handling(self):\n",
    "        self.speed_limit=pd.read_csv('Speed_Limits.csv')\n",
    "        \n",
    "        self.speed_limit.rename(columns={'STREET_NAME':'Location','SPEED':'Speed','multiline':'Coordinates','CREATED_DT':'Date'},inplace=True)\n",
    "        coord=self.speed_limit['Coordinates'].str.split(expand=True)\n",
    "        \n",
    "        for i in range(len(coord.columns)):\n",
    "            if(i>0):\n",
    "                coord[i]= coord[i].str.strip(')(,')\n",
    "        coord.drop(columns=0,inplace=True)\n",
    "        self.speed_limit['Date']=pd.to_datetime(self.speed_limit['Date'])\n",
    "        self.speed_limit['Year']=pd.DatetimeIndex(self.speed_limit['Date']).year\n",
    "        self.speed_limit=self.speed_limit[['Year','Speed']]\n",
    "        self.speed_limit=pd.merge(self.speed_limit,coord,left_index=True,right_index=True)\n",
    "        self.speed_limit=self.speed_limit.loc[self.speed_limit['Year']<=2018]\n",
    "    def Camera_Handling(self):\n",
    "        self.cameras=pd.read_csv('Traffic_Camera_Locations.csv')\n",
    "        self.cameras=self.cameras[['longitude','latitude']]\n",
    "#         print(self.cameras)\n",
    "    def Incidents_Handling(self):\n",
    "        self.incidents=pd.read_csv('Traffic_Incidents.csv')\n",
    "        self.incidents.rename(columns={'INCIDENT INFO':'Location','START_DT':'Date'},inplace=True)\n",
    "        self.incidents['Date']=pd.to_datetime(self.incidents['Date'])\n",
    "        self.incidents['Year']=pd.DatetimeIndex(self.incidents['Date']).year\n",
    "        self.incidents=self.incidents[['Location','Year','Longitude','Latitude','Count']]\n",
    "        self.incidents=self.incidents.loc[self.incidents['Year']==2018]\n",
    "        self.incidents=self.incidents.groupby('Location').sum().reset_index()\n",
    "        self.incidents['Longitude']=self.incidents['Longitude']/self.incidents['Count']\n",
    "        self.incidents['Latitude']=self.incidents['Latitude']/self.incidents['Count']\n",
    "        self.incidents['Year']=self.incidents['Year']/self.incidents['Count']\n",
    "        self.incidents.to_csv('organzied_incidents.csv')\n",
    "    def Signal_Handling(self):\n",
    "        self.signals=pd.read_csv('Traffic_Signals.csv')\n",
    "        self.signals.rename(columns={'INSTDATE':'Date','INT_TYPE':'Signal Type','latitude':'Latitude',\\\n",
    "                                     'longitude':'Longitude'},inplace=True)\n",
    "        self.signals['Intersection']=self.signals['FIRSTROAD']+' & '+self.signals['SECONDROAD']\n",
    "        self.signals['Date']=pd.to_datetime(self.signals['Date'])\n",
    "        self.signals['Year']=pd.DatetimeIndex(self.signals['Date']).year\n",
    "        self.signals['Signal Type']=self.signals['Signal Type'].astype(str)\n",
    "        self.signals=self.signals[['Intersection','Signal Type','Year','Longitude','Latitude','Count']]\n",
    "        \n",
    "        self.signals=self.signals.loc[self.signals['Year']<=2018]\n",
    "        self.signals=self.signals.groupby('Intersection').sum().reset_index()\n",
    "        \n",
    "        self.signals['Longitude']=self.signals['Longitude']/self.signals['Count']\n",
    "        self.signals['Latitude']=self.signals['Latitude']/self.signals['Count'] \n",
    "        self.signals['Year']=self.signals['Year']/self.signals['Count'] \n",
    "        \n",
    "    def Sign_Handling(self):\n",
    "        self.signs=pd.read_csv('Traffic_Signs.csv')\n",
    "        self.signs.rename(columns={'BLADE_TYPE':'Type','INSTDATE':'Date'},inplace=True)\n",
    "        \n",
    "        self.signs['Date']=pd.to_datetime(self.signs['Date'])\n",
    "        self.signs['Year']=pd.DatetimeIndex(self.signs['Date']).year\n",
    "        self.signs['Count']=1\n",
    "        self.signs=self.signs[['Type','Year','POINT','Count']]\n",
    "        self.signs=self.signs.loc[(self.signs['Type']=='Pedestrian') | (self.signs['Type']=='Yield') | (self.signs['Type']=='Stop') | (self.signs['Type']=='Bicycle / Pathway') | (self.signs['Type']=='Speed') | (self.signs['Type']=='School') | (self.signs['Type']=='Playground')]\n",
    "        print(self.signs['Type'].unique())\n",
    "        self.signs=self.signs.groupby('POINT').sum().reset_index()\n",
    "        self.signs['Year']=self.signs['Year']/self.signs['Count']\n",
    "        self.signs=self.signs.loc[self.signs['Year']<=2018]\n",
    "        coord=self.signs['POINT'].str.split(expand=True)\n",
    "#         \n",
    "        for i in range(len(coord.columns)):\n",
    "            \n",
    "            if (i>0):\n",
    "                coord[i]= coord[i].str.strip(',()')\n",
    "\n",
    "        coord.drop(columns=0,inplace=True)\n",
    "        self.signs.drop(columns='POINT',inplace=True)\n",
    "        self.signs=pd.merge(self.signs,coord,left_index=True,right_index=True)\n",
    "#         self.signs=\n",
    "\n",
    "    def Volume_Handling(self):\n",
    "        self.volume=pd.read_csv('Traffic_Volumes_for_2018.csv')\n",
    "        self.volume.rename(columns={'YEAR':'Year','SECNAME':'Location','VOLUME':'Volume'},inplace=True)\n",
    "        coord=self.volume['multilinestring'].str.split(expand=True)\n",
    "        for i in range(len(coord.columns)):\n",
    "            \n",
    "            if (i>0):\n",
    "                coord[i]= coord[i].str.strip(',()')\n",
    "        coord.drop(columns=0,inplace=True)\n",
    "        self.volume=self.volume[['Year','Location','Volume']]\n",
    "        self.volume=pd.merge(self.volume,coord,left_index=True,right_index=True)\n",
    "    \n",
    "    def get_Speed(self):\n",
    "        return self.speed_limit\n",
    "    def get_Camera(self):\n",
    "        return self.cameras\n",
    "    def get_Incident(self):\n",
    "        return self.incidents\n",
    "    def get_Signal (self):\n",
    "        return self.signals\n",
    "    def get_Sign (self):\n",
    "        return self.signs\n",
    "    def get_Volume(self):\n",
    "        return self.volume\n",
    "        "
   ]
  },
  {
   "cell_type": "markdown",
   "metadata": {},
   "source": [
    "**Weather data Class**"
   ]
  },
  {
   "cell_type": "code",
   "execution_count": 3,
   "metadata": {},
   "outputs": [],
   "source": [
    "class Weather_Features():\n",
    "#     def __init__(self):\n",
    "#         self.download_weather_data()\n",
    "        \n",
    "    def download_weather_data(self):\n",
    "        self.url_template = \"https://climate.weather.gc.ca/climate_data/bulk_data_e.html?format=csv&stationID={station}&Year={year}&Month={month}&Day=14&timeframe={timeframe}&submit=Download+Data\"\n",
    "        self.url = self.url_template.format(station = 50430, year=2018, month=1, timeframe = 1)\n",
    "        self.weather_data = pd.read_csv(self.url, index_col='Date/Time', parse_dates=True)\n",
    "        self.weather_data.columns = [col.replace('\\xb0', '') for col in self.weather_data.columns]\n",
    "        self.data_df = pd.DataFrame(self.weather_data)\n",
    "        self.data_df = self.data_df[['Temp (C)','Visibility (km)']].describe().reset_index()\n",
    "        return self.data_df\n"
   ]
  },
  {
   "cell_type": "markdown",
   "metadata": {},
   "source": [
    "**Map Class**"
   ]
  },
  {
   "cell_type": "code",
   "execution_count": 66,
   "metadata": {},
   "outputs": [],
   "source": [
    "class Map ():\n",
    "    \"\"\"\n",
    "    this class generates the map with boundary and gridlines, also generate the grid coordinates\n",
    "    Todo- add markers for each grid to popup stats per grid\n",
    "    \"\"\"\n",
    "    def __init__(self):\n",
    "        self.boundary=pd.read_csv('City_Boundary_layer.csv')\n",
    "        self.boundary=self.boundary['the_geom'].str.split(expand=True)\n",
    "        \n",
    "        \n",
    "        for i in range(len(self.boundary.columns)):\n",
    "            if(i>0):\n",
    "                self.boundary[i]= self.boundary[i].str.strip(')(,')\n",
    "        self.boundary.drop(columns=0,inplace=True)\n",
    "        self.Boundary()\n",
    "        self.draw_Boundary()\n",
    "        self.draw_Grid()\n",
    "        self.generate_Grid_Coord()\n",
    "        \n",
    "    def Boundary(self):\n",
    "#         self.boundary_coordinates=[]\n",
    "       \n",
    "        df=pd.DataFrame(columns=['Lat','Long'])\n",
    "        for i in range(0,len(self.boundary.columns),2):\n",
    "            if(i+1)<len(self.boundary.columns):\n",
    "                df = df.append({'Long':self.boundary.iloc[0,(i)],'Lat':self.boundary.iloc[0,(i+1)]}, ignore_index=True)\n",
    "#                 tes['Long'].append(float(self.boundary.iloc[0,(i)])\n",
    "#                 tes['Lat'].append(float(self.boundary.iloc[0,(i+1)])\n",
    "#                 temp=[float(self.boundary.iloc[0,i+1]),float(self.boundary.iloc[0,(i)])]\n",
    "#                 self.boundary_coordinates.append(temp)\n",
    "            else:\n",
    "                break\n",
    "        self.min_lat=float(df['Lat'].min())\n",
    "        self.max_lat=float(df['Lat'].max())\n",
    "        self.min_long=float(df['Long'].min())\n",
    "        self.max_long=float(df['Long'].max())\n",
    "#         print(self.min_lat,self.max_long)\n",
    "        print(self.min_lat,self.min_long)\n",
    "#         print(self.max_lat,self.min_long)\n",
    "        print(self.max_lat,self.max_long)\n",
    "    def draw_Boundary(self):\n",
    "        self.m=folium.Map(location=[51.048615,-114.070847],zoom_start=10)\n",
    "        cord=[[self.min_lat,self.max_long],[self.min_lat,self.min_long],\n",
    "              [self.max_lat,self.min_long],[self.max_lat,self.max_long],[self.min_lat,self.max_long]]\n",
    "        \n",
    "        folium.PolyLine(cord,color='blue').add_to(self.m)\n",
    "#         line=folium.vector_layers.PolyLine(self.boundary_coordinates,popup='<b>boundary</b>',\\\n",
    "#                                      tooltip='boundary',color='blue',weight=10).add_to(f1)\n",
    "        \n",
    "        \n",
    "#         print('hter')\n",
    "#         display(m)\n",
    "    def draw_Grid(self):\n",
    "        self.diff_long=(self.max_long-self.min_long)/10\n",
    "        self.diff_lat=(self.max_lat-self.min_lat)/10\n",
    "        for i in range(10):\n",
    "            cord=[[self.min_lat,(self.max_long-self.diff_long*i)],[self.max_lat,(self.max_long-self.diff_long*i)]]\n",
    "            line=folium.vector_layers.PolyLine(cord,color='blue').add_to(self.m)\n",
    "        for i in range(10):\n",
    "            cord=[[(self.max_lat-self.diff_lat*i),self.max_long],[(self.max_lat-self.diff_lat*i),self.min_long]]\n",
    "            line=folium.vector_layers.PolyLine(cord,color='blue').add_to(self.m)\n",
    "        \n",
    "#         folium.Marker(location=[51.0532357621796,-114.035044349223],popup='max,max',color='red').add_to(self.m)\n",
    "#         folium.Marker(location=[self.min_lat,self.min_long],popup='min,min',color='red').add_to(self.m)\n",
    "#         folium.Marker(location=[self.max_lat-self.diff_lat,self.max_long],popup='max-1/10,max',color='red').add_to(self.m)\n",
    "#         f2.add_to(self.m)\n",
    "#         folium.LayerControl().add_to(self.m)\n",
    "        \n",
    "    def generate_Grid_Coord(self):\n",
    "        self.grid_coord=pd.DataFrame(index=['max_lat','min_lat','max_long','min_long'])\n",
    "        count=0\n",
    "        key=1\n",
    "        while(count<=9):\n",
    "            for i in range(10):\n",
    "                max_lat=(self.max_lat-self.diff_lat*count)\n",
    "                min_lat=(self.max_lat-self.diff_lat*(count+1))\n",
    "                max_long=(self.max_long-self.diff_long*i)\n",
    "                min_long=(self.max_long-self.diff_long*(i+1))\n",
    "#                     a=[(self.max_lat-self.diff_lat*k),(self.max_long-self.diff_long*i)]\n",
    "#                     b=[(self.max_lat-self.diff_lat*k),(self.max_long-self.diff_long*(i+1))]\n",
    "#                     c=[(self.max_lat-self.diff_lat*(k+1)),(self.max_long-self.diff_long*(i+1))]\n",
    "#                     d=[(self.max_lat-self.diff_lat*(k+1)),(self.max_long-self.diff_long*i)]\n",
    "                    \n",
    "#                 folium.Marker(location=a,popup='a {}'.format(key),color='red').add_to(self.m)\n",
    "#                 folium.Marker(location=b,popup='b {}'.format(key),color='red').add_to(self.m)\n",
    "#                 folium.Marker(location=c,popup='c {}'.format(key),color='red').add_to(self.m)\n",
    "#                 folium.Marker(location=d,popup='d {}'.format(key),color='red').add_to(self.m)\n",
    "#                 self.grid_coord[key]=[a,b,c,d]\n",
    "                \n",
    "                self.grid_coord[key]=[max_lat,min_lat,max_long,min_long]\n",
    "        \n",
    "        \n",
    "                key+=1\n",
    "            count+=1\n",
    "        self.m.save('index.html')\n",
    "    \n",
    "    def heat_map():\n",
    "        self.heat_map = folium.Map(location=[51.048615,-114.070847],zoom_start = 13) \n",
    "\n",
    "        # Ensure you're handing it floats\n",
    "        volume[1] = volume[1].astype(float)\n",
    "        volume[2] = volume[2].astype(float)\n",
    "        volume['Volume'] = volume['Volume'].astype(float)\n",
    "        volume['Volume']= volume['Volume']/volume['Volume'].mean()\n",
    "        # Filter the DF for rows, then columns, then remove NaNs\n",
    "        #heat_df = volume[volume['Speed_limit']=='40'] # Reducing data size so it runs faster\n",
    "        #heat_df = volume[volume['Year']=='2018'] # Reducing data size so it runs faster\n",
    "        heat_df = volume[[2,1,'Volume']]\n",
    "        #heat_df = heat_df.dropna(axis=0, subset=[1,2])\n",
    "\n",
    "        # List comprehension to make out list of lists\n",
    "        heat_data = [[row[2], row[1],row['Volume']] for index, row in heat_df.iterrows()]\n",
    "\n",
    "        # Plot it on the map\n",
    "        folium.plugins.HeatMap(heat_data, radius = 20).add_to(heat_map)\n",
    "        \n",
    "    def get_Grid_Coord(self):\n",
    "        return self.grid_coord\n",
    "    def get_map(self):\n",
    "        return self.m\n",
    "        \n",
    "\n"
   ]
  },
  {
   "cell_type": "markdown",
   "metadata": {},
   "source": [
    "**Data Analysis Class**"
   ]
  },
  {
   "cell_type": "code",
   "execution_count": 39,
   "metadata": {},
   "outputs": [],
   "source": [
    "class Data_Analysis():\n",
    "    \"\"\"\n",
    "    This class will find if any of the data fall in the grid\n",
    "    and calculate the stats\n",
    "    \"\"\"\n",
    "    def __init__(self,speed,camera,incident,signal,sign,volume,weather,grid_coord):\n",
    "        self.speed=speed\n",
    "        self.camera=camera\n",
    "        self.incident=incident\n",
    "        self.signal=signal\n",
    "        self.sign=sign\n",
    "        self.volume=volume\n",
    "        self.weather=weather\n",
    "        self.grid_coord=grid_coord\n",
    "        ## calling functions\n",
    "        self.sign_Analysis()\n",
    "        self.signal_Analysis()\n",
    "        self.incident_Analysis()\n",
    "        self.camera_Analysis()\n",
    "        self.volume_Analysis()\n",
    "        self.speed_Analysis()\n",
    "        self.speed_Coordinates()\n",
    "        self.merge_Data()\n",
    "\n",
    "#             print()\n",
    "#         self.speed.to_csv('test.csv')\n",
    "#         print(len(self.speed.columns))\n",
    "    def speed_Coordinates(self):\n",
    "        self.speed_cord=pd.DataFrame(columns=['Speed','Coord'])\n",
    "        for index,row in self.speed.iterrows():\n",
    "            temp=[[]]\n",
    "            for i in range(3,len(self.speed.columns)-1,2):\n",
    "                if( row[i]!=None):\n",
    "                    long=float(row[i])\n",
    "                    lat=float(row[i+1])\n",
    "                    temp.append([lat,long])\n",
    "            temp.pop(0)\n",
    "            self.speed_cord=self.speed_cord.append({'Speed':row['Speed'],'Coord':temp},ignore_index=True)\n",
    "#         self.m=folium.Map(location=[51.048615,-114.070847],zoom_start=10)\n",
    "#         folium.PolyLine(self.speed_cord.iloc[60,1],color='blue').add_to(self.m)\n",
    "#         self.m.save('test.html')\n",
    "                   \n",
    "        \n",
    "    def speed_Analysis(self):\n",
    "        self.speed_per_grid=pd.DataFrame(columns=['Speed','Grid_Location','Latitude','Longitude'])\n",
    "       \n",
    "        \n",
    "        for index,row in self.speed.iterrows():\n",
    "#             temp=[[]]\n",
    "            \n",
    "#             print(\"Row \",index,\"Speed\",row['Speed'])\n",
    "            for i in range(1,len(self.speed.columns)-1,2):\n",
    "                if( row[i]!=None):\n",
    "                    long=float(row[i])\n",
    "                    lat=float(row[i+1])\n",
    "                   \n",
    "                    for k in range(1,len(self.grid_coord.columns)):\n",
    "                        max_lat=float(self.grid_coord.iloc[0,k])\n",
    "                        min_lat=float(self.grid_coord.iloc[1,k])\n",
    "                        max_long=float(self.grid_coord.iloc[2,k])\n",
    "                        min_long=float(self.grid_coord.iloc[3,k])\n",
    "                        #NOTE: long logic is in reverse\n",
    "                        if(min_lat<lat and lat<max_lat) and (max_long<long and long<min_long):\n",
    "                            self.speed_per_grid=self.speed_per_grid.append({'Speed':row['Speed'],'Grid_Location':k,'Latitude':(max_lat+min_lat)/2,'Longitude':(max_long+min_long)/2},ignore_index=True)\n",
    "        self.speed_per_grid=self.speed_per_grid.astype(int)\n",
    "        self.speed_per_grid=self.speed_per_grid.groupby('Grid_Location').mean().reset_index()\n",
    "        \n",
    "    def volume_Analysis(self):\n",
    "        self.volume_per_grid=pd.DataFrame(columns=['Volume','Grid_Location','Latitude','Longitude'])\n",
    "       \n",
    "        print(self.volume.columns)\n",
    "        for index,row in self.volume.iterrows():\n",
    "            \n",
    "            for i in range(1,len(self.volume.columns)-2,2):#-2 because we have one more addition col in volume df\n",
    "                if( row[i]!=None):\n",
    "                    long=float(row[i])\n",
    "                    lat=float(row[i+1])\n",
    "                    for k in range(1,len(self.grid_coord.columns)):\n",
    "                        max_lat=float(self.grid_coord.iloc[0,k])\n",
    "                        min_lat=float(self.grid_coord.iloc[1,k])\n",
    "                        max_long=float(self.grid_coord.iloc[2,k])\n",
    "                        min_long=float(self.grid_coord.iloc[3,k])\n",
    "                        #NOTE: long logic is in reverse\n",
    "                        if(min_lat<lat and lat<max_lat) and (max_long<long and long<min_long):\n",
    "                            self.volume_per_grid=self.volume_per_grid.append({'Volume':row['Volume'],'Grid_Location':k,'Latitude':(max_lat+min_lat)/2,'Longitude':(max_long+min_long)/2},ignore_index=True)\n",
    "                else:\n",
    "                    continue\n",
    "        self.volume_per_grid=self.volume_per_grid.astype(int)\n",
    "        self.volume_per_grid=self.volume_per_grid.groupby('Grid_Location').mean().reset_index()\n",
    "#         print(self.volume_per_grid)\n",
    "    def camera_Analysis (self):\n",
    "        self.camera_per_grid=pd.DataFrame(columns=['Camera','Grid_Location','Latitude','Longitude'])\n",
    "        for index,row in self.camera.iterrows():\n",
    "#             print(row)\n",
    "            long=float(row['longitude'])\n",
    "            lat=float(row['latitude'])\n",
    "            for k in range(1,len(self.grid_coord.columns)):\n",
    "                max_lat=float(self.grid_coord.iloc[0,k])\n",
    "                min_lat=float(self.grid_coord.iloc[1,k])\n",
    "                max_long=float(self.grid_coord.iloc[2,k]) \n",
    "                min_long=float(self.grid_coord.iloc[3,k])\n",
    "                if(min_lat<lat and lat<max_lat) and (max_long<long and long<min_long):\n",
    "                    self.camera_per_grid=self.camera_per_grid.append({'Camera':1,'Grid_Location':k,'Latitude':(max_lat+min_lat)/2,'Longitude':(max_long+min_long)/2},ignore_index=True)\n",
    "        self.camera_per_grid=self.camera_per_grid.astype(int)\n",
    "        self.camera_per_grid=self.camera_per_grid.groupby('Grid_Location').sum().reset_index()\n",
    "#         print(self.camera_per_grid)\n",
    "    def incident_Analysis(self):\n",
    "        self.incident_per_grid=pd.DataFrame(columns=['Incident','Grid_Location','Latitude','Longitude'])\n",
    "        for index,row in self.incident.iterrows():\n",
    "#             print(row)\n",
    "            long=float(row['Longitude'])\n",
    "            lat=float(row['Latitude'])\n",
    "            for k in range(1,len(self.grid_coord.columns)):\n",
    "                max_lat=float(self.grid_coord.iloc[0,k])\n",
    "                min_lat=float(self.grid_coord.iloc[1,k])\n",
    "                max_long=float(self.grid_coord.iloc[2,k]) \n",
    "                min_long=float(self.grid_coord.iloc[3,k])\n",
    "                if(min_lat<lat and lat<max_lat) and (max_long<long and long<min_long):\n",
    "                    self.incident_per_grid=self.incident_per_grid.append({'Incident':row['Count'],'Grid_Location':k,'Latitude':(max_lat+min_lat)/2,'Longitude':(max_long+min_long)/2},ignore_index=True)\n",
    "        self.incident_per_grid=self.incident_per_grid.astype(int)\n",
    "        self.incident_per_grid=self.incident_per_grid.groupby('Grid_Location').mean().reset_index()\n",
    "#         print(self.camera_per_grid)\n",
    "#         print(self.incident_per_grid)\n",
    "    def signal_Analysis(self):\n",
    "        self.signal_per_grid=pd.DataFrame(columns=['Signal','Grid_Location','Latitude','Longitude'])\n",
    "        for index,row in self.signal.iterrows():\n",
    "#             print(row)\n",
    "            long=float(row['Longitude'])\n",
    "            lat=float(row['Latitude'])\n",
    "            for k in range(1,len(self.grid_coord.columns)):\n",
    "                max_lat=float(self.grid_coord.iloc[0,k])\n",
    "                min_lat=float(self.grid_coord.iloc[1,k])\n",
    "                max_long=float(self.grid_coord.iloc[2,k]) \n",
    "                min_long=float(self.grid_coord.iloc[3,k])\n",
    "                if(min_lat<lat and lat<max_lat) and (max_long<long and long<min_long):\n",
    "                    self.signal_per_grid=self.signal_per_grid.append({'Signal':row['Count'],'Grid_Location':k,'Latitude':(max_lat+min_lat)/2,'Longitude':(max_long+min_long)/2},ignore_index=True)\n",
    "        self.signal_per_grid=self.signal_per_grid.astype(int)\n",
    "        self.signal_per_grid=self.signal_per_grid.groupby('Grid_Location').sum().reset_index()\n",
    "#         print(self.signal_per_grid)\n",
    "    def sign_Analysis(self):\n",
    "        self.sign_per_grid=pd.DataFrame(columns=['Sign','Grid_Location','Latitude','Longitude'])\n",
    "        for index,row in self.sign.iterrows():\n",
    "#             print(row)\n",
    "            long=float(row[1])\n",
    "            lat=float(row[2])\n",
    "            for k in range(1,len(self.grid_coord.columns)):\n",
    "                max_lat=float(self.grid_coord.iloc[0,k])\n",
    "                min_lat=float(self.grid_coord.iloc[1,k])\n",
    "                max_long=float(self.grid_coord.iloc[2,k]) \n",
    "                min_long=float(self.grid_coord.iloc[3,k])\n",
    "                if(min_lat<lat and lat<max_lat) and (max_long<long and long<min_long):\n",
    "                    self.sign_per_grid=self.sign_per_grid.append({'Sign':row['Count'],'Grid_Location':k,'Latitude':(max_lat+min_lat)/2,'Longitude':(max_long+min_long)/2},ignore_index=True)\n",
    "        self.sign_per_grid=self.sign_per_grid.astype(int)\n",
    "        self.sign_per_grid=self.sign_per_grid.groupby('Grid_Location').sum().reset_index()\n",
    "#         print(self.sign_per_grid)\n",
    "    def merge_Data(self):\n",
    "#         print(self.weather.iloc[1,1],\" vis:\",self.weather.iloc[1,2])\n",
    "        ##merged camera & signal\n",
    "        df1=pd.merge(self.camera_per_grid,self.signal_per_grid,how='outer',on=['Grid_Location'])\n",
    "        ## merged speed & volume\n",
    "        df2=pd.merge(self.speed_per_grid,self.volume_per_grid,how='outer',on=['Grid_Location'])\n",
    "        ## merged incident & sign\n",
    "        df3=pd.merge(self.incident_per_grid,self.sign_per_grid,how='outer',on=['Grid_Location'])\n",
    "        ## mege df1 and df2\n",
    "        df4=pd.merge(df1,df2,how='outer',on=['Grid_Location'])\n",
    "        ## final merge df4 and df 3\n",
    "        self.stats_per_grid=pd.merge(df4,df3,how='outer',on=['Grid_Location'])\n",
    "        self.stats_per_grid['Temp (C)']=self.weather.iloc[1,1]\n",
    "        self.stats_per_grid['Visibility (km)']=self.weather.iloc[1,2]\n",
    "#         print(df1)\n",
    "    def get_Stats_per_Grid(self):\n",
    "        return self.stats_per_grid\n",
    "    def get_Speed_Coord (self):\n",
    "        return self.speed_cord\n",
    "        \n",
    "        \n",
    "        \n",
    "        \n"
   ]
  },
  {
   "cell_type": "code",
   "execution_count": 82,
   "metadata": {},
   "outputs": [],
   "source": [
    "class Display_Stats():\n",
    "    def __init__(self,map,data,speed_cord):\n",
    "        self.map=map\n",
    "        self.data=data\n",
    "        self.speed_cord=speed_cord\n",
    "        self.draw_Speed_Map()\n",
    "#         self.draw_Stats_Map()\n",
    "    def draw_Stats_Map(self):\n",
    "        for index,row in self.data.iterrows():\n",
    "            folium.Marker(location=[row['Latitude'],row['Longitude']],popup=\"Camera: {} \\n Signal: {} \\n Speed: {} \\n Volume: {} \\n Incident: {} \\n Sign: {} \\n Temp: {} \\n Visibility: {}\".format(row['Camera'],row['Signal'],row['Speed'],row['Volume'],row['Incident'],row['Sign'],row['Temp (C)'],row['Visibility (km)'])).add_to(self.map)\n",
    "#             print(\"Camera: {} \\n Signal: {} \\n Speed: {} \\n Volume: {} \\n Incident: {} \\n Sign: {} \\n Temp: {} \\n Visibility: {}\".format(row['Camera'],row['Signal'],row['Speed'],row['Volume'],row['Incident'],row['Sign'],row['Temp (C)'],row['Visibility (km)']))\n",
    "#             break\n",
    "        self.map.save('test.html')\n",
    "    def draw_Speed_Map(self):\n",
    "        self.speed_Map=folium.Map(location=[51.048615,-114.070847],zoom_start=10)\n",
    "        lis=list(self.speed_cord['Speed'].unique())\n",
    "        color=['gray', 'blue', 'green', 'purple', 'orange', 'darkred', 'lightred', 'beige','red','pink','black']\n",
    "        combo={}\n",
    "        for i in range(len(lis)):\n",
    "            combo[lis[i]]=color[i]\n",
    "        for index,row in self.speed_cord.iterrows():\n",
    "            folium.PolyLine(row['Coord'],color=combo[row['Speed']]).add_to(self.speed_Map)\n",
    "        self.speed_Map.save('Speed_Map.html')\n",
    "            \n",
    "#         print(combo)"
   ]
  },
  {
   "cell_type": "markdown",
   "metadata": {},
   "source": [
    "<Todo:>\n",
    "\n",
    "**Step 2**\n",
    "\n",
    "- visualize data of the merged df\n",
    "- get the speed coordinated DF to plot on map (code is implemented in Data_Analysis Class)\n",
    "- draw the traffic volume heat map\n",
    "- if you have time plot stats/grid on map\n",
    "\n",
    "\n"
   ]
  },
  {
   "cell_type": "markdown",
   "metadata": {
    "pycharm": {
     "name": "#%% md\n"
    }
   },
   "source": [
    "**Main Code**"
   ]
  },
  {
   "cell_type": "code",
   "execution_count": 6,
   "metadata": {},
   "outputs": [
    {
     "name": "stdout",
     "output_type": "stream",
     "text": [
      "['Pedestrian' 'Yield' 'Stop' 'Bicycle / Pathway' 'Playground' 'Speed'\n",
      " 'School']\n"
     ]
    }
   ],
   "source": [
    "road=Road_Features()\n",
    "speed=road.get_Speed()\n",
    "camera=road.get_Camera()\n",
    "incident=road.get_Incident()\n",
    "signal=road.get_Signal()\n",
    "sign=road.get_Sign()\n",
    "volume=road.get_Volume()\n",
    "weather=Weather_Features().download_weather_data()\n"
   ]
  },
  {
   "cell_type": "code",
   "execution_count": 67,
   "metadata": {},
   "outputs": [
    {
     "name": "stdout",
     "output_type": "stream",
     "text": [
      "50.842822 -113.859905\n",
      "51.212425 -114.315796\n"
     ]
    }
   ],
   "source": [
    "map=Map()"
   ]
  },
  {
   "cell_type": "code",
   "execution_count": 68,
   "metadata": {},
   "outputs": [],
   "source": [
    "m=map.get_map()"
   ]
  },
  {
   "cell_type": "code",
   "execution_count": 8,
   "metadata": {},
   "outputs": [],
   "source": [
    "grid_coord=map.get_Grid_Coord()\n"
   ]
  },
  {
   "cell_type": "code",
   "execution_count": 9,
   "metadata": {},
   "outputs": [
    {
     "name": "stdout",
     "output_type": "stream",
     "text": [
      "                 1           2           3           4           5    \\\n",
      "max_lat    51.212425   51.212425   51.212425   51.212425   51.212425   \n",
      "min_lat    51.175465   51.175465   51.175465   51.175465   51.175465   \n",
      "max_long -114.315796 -114.270207 -114.224618 -114.179029 -114.133440   \n",
      "min_long -114.270207 -114.224618 -114.179029 -114.133440 -114.087851   \n",
      "\n",
      "                 6           7           8           9           10   ...  \\\n",
      "max_lat    51.212425   51.212425   51.212425   51.212425   51.212425  ...   \n",
      "min_lat    51.175465   51.175465   51.175465   51.175465   51.175465  ...   \n",
      "max_long -114.087851 -114.042261 -113.996672 -113.951083 -113.905494  ...   \n",
      "min_long -114.042261 -113.996672 -113.951083 -113.905494 -113.859905  ...   \n",
      "\n",
      "                 91          92          93          94          95   \\\n",
      "max_lat    50.879782   50.879782   50.879782   50.879782   50.879782   \n",
      "min_lat    50.842822   50.842822   50.842822   50.842822   50.842822   \n",
      "max_long -114.315796 -114.270207 -114.224618 -114.179029 -114.133440   \n",
      "min_long -114.270207 -114.224618 -114.179029 -114.133440 -114.087851   \n",
      "\n",
      "                 96          97          98          99          100  \n",
      "max_lat    50.879782   50.879782   50.879782   50.879782   50.879782  \n",
      "min_lat    50.842822   50.842822   50.842822   50.842822   50.842822  \n",
      "max_long -114.087851 -114.042261 -113.996672 -113.951083 -113.905494  \n",
      "min_long -114.042261 -113.996672 -113.951083 -113.905494 -113.859905  \n",
      "\n",
      "[4 rows x 100 columns]\n"
     ]
    }
   ],
   "source": [
    "print(grid_coord.head())"
   ]
  },
  {
   "cell_type": "code",
   "execution_count": 10,
   "metadata": {},
   "outputs": [
    {
     "name": "stdout",
     "output_type": "stream",
     "text": [
      "              Year  Count                  1                2\n",
      "36     2012.000000      2  -113.883366768892  50.921512982233\n",
      "47     1004.500000      2  -113.888549941574  51.038846768305\n",
      "49     1008.000000      2  -113.888562491308  51.042849287861\n",
      "54     2014.000000      2   -113.88870479289  50.970214835797\n",
      "55     1004.000000      2  -113.888728082783  51.042854281209\n",
      "...            ...    ...                ...              ...\n",
      "43065  2016.000000      3   -114.26253893505  51.086670845272\n",
      "43097  2006.000000      2  -114.265419159398  51.096386127401\n",
      "43159  1338.666667      3  -114.280520938733  51.125159421598\n",
      "43160  2004.000000      2   -114.28058352071  51.124963785639\n",
      "43162  2004.000000      2   -114.28079398816   51.12518901914\n",
      "\n",
      "[6938 rows x 4 columns]\n"
     ]
    }
   ],
   "source": [
    "print(sign.loc[sign['Count']>1])"
   ]
  },
  {
   "cell_type": "code",
   "execution_count": 33,
   "metadata": {
    "scrolled": true
   },
   "outputs": [
    {
     "name": "stdout",
     "output_type": "stream",
     "text": [
      "Index([    'Year', 'Location',   'Volume',          1,          2,          3,\n",
      "                4,          5,          6,          7,\n",
      "       ...\n",
      "              479,        480,        481,        482,        483,        484,\n",
      "              485,        486,        487,        488],\n",
      "      dtype='object', length=491)\n"
     ]
    }
   ],
   "source": [
    "dataAnalysis=Data_Analysis(speed,camera,incident,signal,sign,volume,weather,grid_coord)"
   ]
  },
  {
   "cell_type": "code",
   "execution_count": 50,
   "metadata": {},
   "outputs": [],
   "source": [
    "stats_per_grid=dataAnalysis.get_Stats_per_Grid()\n",
    "stats_per_grid=stats_per_grid.replace(np.NaN,0)\n",
    "speed_cord=dataAnalysis.get_Speed_Coord()\n"
   ]
  },
  {
   "cell_type": "code",
   "execution_count": 52,
   "metadata": {},
   "outputs": [
    {
     "name": "stdout",
     "output_type": "stream",
     "text": [
      "       Grid_Location     Camera      Signal      Speed        Volume  \\\n",
      "count      82.000000  82.000000   82.000000  82.000000     82.000000   \n",
      "mean       47.426829   1.536585   17.817073  53.659218  20465.026497   \n",
      "std        28.553623   3.031502   28.693841  26.982176  13394.154623   \n",
      "min         1.000000   0.000000    0.000000   0.000000      0.000000   \n",
      "25%        23.250000   0.000000    0.000000  47.311705  12302.342139   \n",
      "50%        45.500000   0.000000    9.000000  62.122950  19306.504231   \n",
      "75%        72.000000   2.000000   25.750000  70.524034  28308.070553   \n",
      "max        99.000000  22.000000  218.000000  98.833333  68347.826087   \n",
      "\n",
      "        Incident         Sign      Temp (C)  Visibility (km)  \n",
      "count  82.000000    82.000000  8.200000e+01     8.200000e+01  \n",
      "mean    1.186535   612.841463 -6.117362e+00     3.060659e+01  \n",
      "std     0.562050   633.370768  4.468221e-15     1.429831e-14  \n",
      "min     0.000000     0.000000 -6.117362e+00     3.060659e+01  \n",
      "25%     1.017857    46.250000 -6.117362e+00     3.060659e+01  \n",
      "50%     1.294946   446.500000 -6.117362e+00     3.060659e+01  \n",
      "75%     1.485212   988.000000 -6.117362e+00     3.060659e+01  \n",
      "max     2.279503  3150.000000 -6.117362e+00     3.060659e+01  \n"
     ]
    }
   ],
   "source": [
    "print(stats_per_grid.sort_values('Grid_Location').describe())"
   ]
  },
  {
   "cell_type": "code",
   "execution_count": 79,
   "metadata": {},
   "outputs": [
    {
     "name": "stdout",
     "output_type": "stream",
     "text": [
      "  Speed                                              Coord\n",
      "0    40  [[50.996020318821, -114.034870203979], [50.995...\n",
      "1    60  [[51.166674574918, -114.068594322365], [51.166...\n",
      "2    80  [[51.062637243694, -113.918657276573], [51.062...\n",
      "3    40  [[50.90171256435, -113.975005162358], [50.9017...\n",
      "4    60  [[51.12605722446, -114.048743773461], [51.1260...\n"
     ]
    }
   ],
   "source": [
    "print(speed_cord.head())"
   ]
  },
  {
   "cell_type": "code",
   "execution_count": 13,
   "metadata": {},
   "outputs": [],
   "source": [
    "from folium.plugins import HeatMap"
   ]
  },
  {
   "cell_type": "code",
   "execution_count": 14,
   "metadata": {},
   "outputs": [
    {
     "data": {
      "text/html": [
       "<div style=\"width:100%;\"><div style=\"position:relative;width:100%;height:0;padding-bottom:60%;\"><span style=\"color:#565656\">Make this Notebook Trusted to load map: File -> Trust Notebook</span><iframe src=\"about:blank\" style=\"position:absolute;width:100%;height:100%;left:0;top:0;border:none !important;\" data-html=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 onload=\"this.contentDocument.open();this.contentDocument.write(atob(this.getAttribute('data-html')));this.contentDocument.close();\" allowfullscreen webkitallowfullscreen mozallowfullscreen></iframe></div></div>"
      ],
      "text/plain": [
       "<folium.folium.Map at 0x206b9900448>"
      ]
     },
     "execution_count": 14,
     "metadata": {},
     "output_type": "execute_result"
    }
   ],
   "source": [
    "heat_map = folium.Map(location=[51.048615,-114.070847],\n",
    "                    zoom_start = 13) \n",
    "\n",
    "# Ensure you're handing it floats\n",
    "volume[1] = volume[1].astype(float)\n",
    "volume[2] = volume[2].astype(float)\n",
    "volume['Volume'] = volume['Volume'].astype(float)\n",
    "#volume['Volume']= volume['Volume']/volume['Volume'].mean()\n",
    "# Filter the DF for rows, then columns, then remove NaNs\n",
    "#heat_df = volume[volume['Speed_limit']=='40'] # Reducing data size so it runs faster\n",
    "#heat_df = volume[volume['Year']=='2018'] # Reducing data size so it runs faster\n",
    "heat_df = volume[[2,1,'Volume']]\n",
    "#heat_df = heat_df.dropna(axis=0, subset=[1,2])\n",
    "\n",
    "# List comprehension to make out list of lists\n",
    "heat_data = [[row[2], row[1],row['Volume']] for index, row in heat_df.iterrows()]\n",
    "\n",
    "# Plot it on the map\n",
    "folium.plugins.HeatMap(heat_data, radius = 20).add_to(heat_map)\n",
    "\n",
    "#folium.LayerControl().add_to(map_hooray)\n",
    "\n",
    "# Display the map\n",
    "heat_map"
   ]
  },
  {
   "cell_type": "code",
   "execution_count": 83,
   "metadata": {},
   "outputs": [],
   "source": [
    "draw_stats=Display_Stats(m,stats_per_grid,speed_cord)"
   ]
  },
  {
   "cell_type": "code",
   "execution_count": null,
   "metadata": {},
   "outputs": [],
   "source": []
  },
  {
   "cell_type": "code",
   "execution_count": null,
   "metadata": {},
   "outputs": [],
   "source": []
  },
  {
   "cell_type": "code",
   "execution_count": null,
   "metadata": {},
   "outputs": [],
   "source": []
  }
 ],
 "metadata": {
  "kernelspec": {
   "display_name": "Python 3",
   "language": "python",
   "name": "python3"
  },
  "language_info": {
   "codemirror_mode": {
    "name": "ipython",
    "version": 3
   },
   "file_extension": ".py",
   "mimetype": "text/x-python",
   "name": "python",
   "nbconvert_exporter": "python",
   "pygments_lexer": "ipython3",
   "version": "3.7.6"
  }
 },
 "nbformat": 4,
 "nbformat_minor": 1
}
