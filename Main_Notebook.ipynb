{
 "cells": [
  {
   "cell_type": "code",
   "execution_count": 42,
   "metadata": {},
   "outputs": [],
   "source": [
    "import pandas as pd\n",
    "import numpy as np\n",
    "import seaborn as sns\n"
   ]
  },
  {
   "cell_type": "markdown",
   "metadata": {},
   "source": [
    "   # Creating Classes"
   ]
  },
  {
   "cell_type": "markdown",
   "metadata": {},
   "source": [
    "   **Road data handling class**"
   ]
  },
  {
   "cell_type": "code",
   "execution_count": 2,
   "metadata": {},
   "outputs": [],
   "source": [
    "class Road_Features():\n",
    "    def __init__(self):\n",
    "        self.Signal_Handling()\n",
    "  \n",
    "        \n",
    "    \n",
    "        self.Speed_Handling()\n",
    "        self.Camera_Handling()\n",
    "        self.Incidents_Handling()\n",
    "        self.Sign_Handling()\n",
    "        self.Volume_Handling()\n",
    "        \n",
    "\n",
    "    def Speed_Handling(self):\n",
    "        self.speed_limit=pd.read_csv('Speed_Limits.csv')\n",
    "        \n",
    "        self.speed_limit.rename(columns={'STREET_NAME':'Location','SPEED':'Speed','multiline':'Coordinates','CREATED_DT':'Date'},inplace=True)\n",
    "        coord=self.speed_limit['Coordinates'].str.split(expand=True)\n",
    "        \n",
    "        for i in range(len(coord.columns)):\n",
    "            if(i>0):\n",
    "                coord[i]= coord[i].str.strip(')(,')\n",
    "        coord.drop(columns=0,inplace=True)\n",
    "        self.speed_limit['Date']=pd.to_datetime(self.speed_limit['Date'])\n",
    "        self.speed_limit['Year']=pd.DatetimeIndex(self.speed_limit['Date']).year\n",
    "        self.speed_limit=self.speed_limit[['Year','Speed']]\n",
    "        self.speed_limit=pd.merge(self.speed_limit,coord,left_index=True,right_index=True)\n",
    "        self.speed_limit=self.speed_limit.loc[self.speed_limit['Year']<=2018]\n",
    "    def Camera_Handling(self):\n",
    "        self.cameras=pd.read_csv('Traffic_Camera_Locations.csv')\n",
    "        self.cameras=self.cameras[['longitude','latitude']]\n",
    "#         print(self.cameras)\n",
    "    def Incidents_Handling(self):\n",
    "        self.incidents=pd.read_csv('Traffic_Incidents.csv')\n",
    "        self.incidents.rename(columns={'INCIDENT INFO':'Location','START_DT':'Date'},inplace=True)\n",
    "        self.incidents['Date']=pd.to_datetime(self.incidents['Date'])\n",
    "        self.incidents['Year']=pd.DatetimeIndex(self.incidents['Date']).year\n",
    "        self.incidents=self.incidents[['Location','Year','Longitude','Latitude','Count']]\n",
    "        self.incidents=self.incidents.loc[self.incidents['Year']==2018]\n",
    "        self.incidents=self.incidents.groupby('Location').sum().reset_index()\n",
    "        self.incidents['Longitude']=self.incidents['Longitude']/self.incidents['Count']\n",
    "        self.incidents['Latitude']=self.incidents['Latitude']/self.incidents['Count']\n",
    "        self.incidents['Year']=self.incidents['Year']/self.incidents['Count']\n",
    "    def Signal_Handling(self):\n",
    "        self.signals=pd.read_csv('Traffic_Signals.csv')\n",
    "        self.signals.rename(columns={'INSTDATE':'Date','INT_TYPE':'Signal Type','latitude':'Latitude',\\\n",
    "                                     'longitude':'Longitude'},inplace=True)\n",
    "        self.signals['Intersection']=self.signals['FIRSTROAD']+' & '+self.signals['SECONDROAD']\n",
    "        self.signals['Date']=pd.to_datetime(self.signals['Date'])\n",
    "        self.signals['Year']=pd.DatetimeIndex(self.signals['Date']).year\n",
    "        self.signals['Signal Type']=self.signals['Signal Type'].astype(str)\n",
    "        self.signals=self.signals[['Intersection','Signal Type','Year','Longitude','Latitude','Count']]\n",
    "        \n",
    "        self.signals=self.signals.loc[self.signals['Year']<=2018]\n",
    "        self.signals=self.signals.groupby('Intersection').sum().reset_index()\n",
    "        \n",
    "        self.signals['Longitude']=self.signals['Longitude']/self.signals['Count']\n",
    "        self.signals['Latitude']=self.signals['Latitude']/self.signals['Count'] \n",
    "        self.signals['Year']=self.signals['Year']/self.signals['Count'] \n",
    "        \n",
    "    def Sign_Handling(self):\n",
    "        self.signs=pd.read_csv('Traffic_Signs.csv')\n",
    "        self.signs.rename(columns={'BLADE_TYPE':'Type','INSTDATE':'Date'},inplace=True)\n",
    "        \n",
    "        self.signs['Date']=pd.to_datetime(self.signs['Date'])\n",
    "        self.signs['Year']=pd.DatetimeIndex(self.signs['Date']).year\n",
    "        self.signs['Count']=1\n",
    "        self.signs=self.signs[['Type','Year','POINT','Count']]\n",
    "        self.signs=self.signs.groupby('POINT').sum().reset_index()\n",
    "        self.signs['Year']=self.signs['Year']/self.signs['Count']\n",
    "        self.signs=self.signs.loc[self.signs['Year']<=2018]\n",
    "        coord=self.signs['POINT'].str.split(expand=True)\n",
    "#         \n",
    "        for i in range(len(coord.columns)):\n",
    "            \n",
    "            if (i>0):\n",
    "                coord[i]= coord[i].str.strip(',()')\n",
    "\n",
    "        coord.drop(columns=0,inplace=True)\n",
    "        self.signs.drop(columns='POINT',inplace=True)\n",
    "        self.signs=pd.merge(self.signs,coord,left_index=True,right_index=True)\n",
    "\n",
    "    def Volume_Handling(self):\n",
    "        self.volume=pd.read_csv('Traffic_Volumes_for_2018.csv')\n",
    "        self.volume.rename(columns={'YEAR':'Year','SECNAME':'Location','VOLUME':'Volume'},inplace=True)\n",
    "        coord=self.volume['multilinestring'].str.split(expand=True)\n",
    "        for i in range(len(coord.columns)):\n",
    "            \n",
    "            if (i>0):\n",
    "                coord[i]= coord[i].str.strip(',()')\n",
    "        coord.drop(columns=0,inplace=True)\n",
    "        self.volume=self.volume[['Year','Location','Volume']]\n",
    "        self.volume=pd.merge(self.volume,coord,left_index=True,right_index=True)\n",
    "    \n",
    "    def get_Speed(self):\n",
    "        return self.speed_limit\n",
    "    def get_Camera(self):\n",
    "        return self.cameras\n",
    "    def get_Incident(self):\n",
    "        return self.incidents\n",
    "    def get_Signal (self):\n",
    "        return self.signals\n",
    "    def get_Sign (self):\n",
    "        return self.signs\n",
    "    def get_Volume(self):\n",
    "        return self.volume\n",
    "        "
   ]
  },
  {
   "cell_type": "markdown",
   "metadata": {},
   "source": [
    "**Weather data Class**"
   ]
  },
  {
   "cell_type": "code",
   "execution_count": 39,
   "metadata": {},
   "outputs": [],
   "source": [
    "class Weather_Features():\n",
    "#     def __init__(self):\n",
    "#         self.download_weather_data()\n",
    "        \n",
    "    def download_weather_data(self):\n",
    "        self.url_template = \"https://climate.weather.gc.ca/climate_data/bulk_data_e.html?format=csv&stationID={station}&Year={year}&Month={month}&Day=14&timeframe={timeframe}&submit=Download+Data\"\n",
    "        self.url = self.url_template.format(station = 50430, year=2018, month=1, timeframe = 1)\n",
    "        self.weather_data = pd.read_csv(self.url, index_col='Date/Time', parse_dates=True)\n",
    "        self.weather_data.columns = [col.replace('\\xb0', '') for col in self.weather_data.columns]\n",
    "        self.data_df = pd.DataFrame(self.weather_data)\n",
    "        self.data_df = self.data_df[['Temp (C)','Visibility (km)']].describe().reset_index()\n",
    "        return self.data_df\n"
   ]
  },
  {
   "cell_type": "markdown",
   "metadata": {},
   "source": [
    "**Map Class**"
   ]
  },
  {
   "cell_type": "code",
   "execution_count": null,
   "metadata": {},
   "outputs": [],
   "source": []
  },
  {
   "cell_type": "code",
   "execution_count": 41,
   "metadata": {},
   "outputs": [
    {
     "ename": "KeyError",
     "evalue": "0",
     "output_type": "error",
     "traceback": [
      "\u001b[1;31m---------------------------------------------------------------------------\u001b[0m",
      "\u001b[1;31mKeyError\u001b[0m                                  Traceback (most recent call last)",
      "\u001b[1;32m~\\anaconda3\\lib\\site-packages\\pandas\\core\\indexes\\base.py\u001b[0m in \u001b[0;36mget_loc\u001b[1;34m(self, key, method, tolerance)\u001b[0m\n\u001b[0;32m   2645\u001b[0m             \u001b[1;32mtry\u001b[0m\u001b[1;33m:\u001b[0m\u001b[1;33m\u001b[0m\u001b[1;33m\u001b[0m\u001b[0m\n\u001b[1;32m-> 2646\u001b[1;33m                 \u001b[1;32mreturn\u001b[0m \u001b[0mself\u001b[0m\u001b[1;33m.\u001b[0m\u001b[0m_engine\u001b[0m\u001b[1;33m.\u001b[0m\u001b[0mget_loc\u001b[0m\u001b[1;33m(\u001b[0m\u001b[0mkey\u001b[0m\u001b[1;33m)\u001b[0m\u001b[1;33m\u001b[0m\u001b[1;33m\u001b[0m\u001b[0m\n\u001b[0m\u001b[0;32m   2647\u001b[0m             \u001b[1;32mexcept\u001b[0m \u001b[0mKeyError\u001b[0m\u001b[1;33m:\u001b[0m\u001b[1;33m\u001b[0m\u001b[1;33m\u001b[0m\u001b[0m\n",
      "\u001b[1;32mpandas\\_libs\\index.pyx\u001b[0m in \u001b[0;36mpandas._libs.index.IndexEngine.get_loc\u001b[1;34m()\u001b[0m\n",
      "\u001b[1;32mpandas\\_libs\\index.pyx\u001b[0m in \u001b[0;36mpandas._libs.index.IndexEngine.get_loc\u001b[1;34m()\u001b[0m\n",
      "\u001b[1;32mpandas\\_libs\\hashtable_class_helper.pxi\u001b[0m in \u001b[0;36mpandas._libs.hashtable.PyObjectHashTable.get_item\u001b[1;34m()\u001b[0m\n",
      "\u001b[1;32mpandas\\_libs\\hashtable_class_helper.pxi\u001b[0m in \u001b[0;36mpandas._libs.hashtable.PyObjectHashTable.get_item\u001b[1;34m()\u001b[0m\n",
      "\u001b[1;31mKeyError\u001b[0m: 0",
      "\nDuring handling of the above exception, another exception occurred:\n",
      "\u001b[1;31mKeyError\u001b[0m                                  Traceback (most recent call last)",
      "\u001b[1;32m<ipython-input-41-d6e4361e16c7>\u001b[0m in \u001b[0;36m<module>\u001b[1;34m\u001b[0m\n\u001b[0;32m      7\u001b[0m \u001b[0mvolume\u001b[0m\u001b[1;33m=\u001b[0m\u001b[0mroad\u001b[0m\u001b[1;33m.\u001b[0m\u001b[0mget_Volume\u001b[0m\u001b[1;33m(\u001b[0m\u001b[1;33m)\u001b[0m\u001b[1;33m\u001b[0m\u001b[1;33m\u001b[0m\u001b[0m\n\u001b[0;32m      8\u001b[0m \u001b[0mweather\u001b[0m\u001b[1;33m=\u001b[0m\u001b[0mWeather_Features\u001b[0m\u001b[1;33m(\u001b[0m\u001b[1;33m)\u001b[0m\u001b[1;33m.\u001b[0m\u001b[0mdownload_weather_data\u001b[0m\u001b[1;33m(\u001b[0m\u001b[1;33m)\u001b[0m\u001b[1;33m\u001b[0m\u001b[1;33m\u001b[0m\u001b[0m\n\u001b[1;32m----> 9\u001b[1;33m \u001b[0mprint\u001b[0m\u001b[1;33m(\u001b[0m\u001b[0mweather\u001b[0m\u001b[1;33m[\u001b[0m\u001b[1;36m0\u001b[0m\u001b[1;33m]\u001b[0m\u001b[1;33m)\u001b[0m\u001b[1;33m\u001b[0m\u001b[1;33m\u001b[0m\u001b[0m\n\u001b[0m",
      "\u001b[1;32m~\\anaconda3\\lib\\site-packages\\pandas\\core\\frame.py\u001b[0m in \u001b[0;36m__getitem__\u001b[1;34m(self, key)\u001b[0m\n\u001b[0;32m   2798\u001b[0m             \u001b[1;32mif\u001b[0m \u001b[0mself\u001b[0m\u001b[1;33m.\u001b[0m\u001b[0mcolumns\u001b[0m\u001b[1;33m.\u001b[0m\u001b[0mnlevels\u001b[0m \u001b[1;33m>\u001b[0m \u001b[1;36m1\u001b[0m\u001b[1;33m:\u001b[0m\u001b[1;33m\u001b[0m\u001b[1;33m\u001b[0m\u001b[0m\n\u001b[0;32m   2799\u001b[0m                 \u001b[1;32mreturn\u001b[0m \u001b[0mself\u001b[0m\u001b[1;33m.\u001b[0m\u001b[0m_getitem_multilevel\u001b[0m\u001b[1;33m(\u001b[0m\u001b[0mkey\u001b[0m\u001b[1;33m)\u001b[0m\u001b[1;33m\u001b[0m\u001b[1;33m\u001b[0m\u001b[0m\n\u001b[1;32m-> 2800\u001b[1;33m             \u001b[0mindexer\u001b[0m \u001b[1;33m=\u001b[0m \u001b[0mself\u001b[0m\u001b[1;33m.\u001b[0m\u001b[0mcolumns\u001b[0m\u001b[1;33m.\u001b[0m\u001b[0mget_loc\u001b[0m\u001b[1;33m(\u001b[0m\u001b[0mkey\u001b[0m\u001b[1;33m)\u001b[0m\u001b[1;33m\u001b[0m\u001b[1;33m\u001b[0m\u001b[0m\n\u001b[0m\u001b[0;32m   2801\u001b[0m             \u001b[1;32mif\u001b[0m \u001b[0mis_integer\u001b[0m\u001b[1;33m(\u001b[0m\u001b[0mindexer\u001b[0m\u001b[1;33m)\u001b[0m\u001b[1;33m:\u001b[0m\u001b[1;33m\u001b[0m\u001b[1;33m\u001b[0m\u001b[0m\n\u001b[0;32m   2802\u001b[0m                 \u001b[0mindexer\u001b[0m \u001b[1;33m=\u001b[0m \u001b[1;33m[\u001b[0m\u001b[0mindexer\u001b[0m\u001b[1;33m]\u001b[0m\u001b[1;33m\u001b[0m\u001b[1;33m\u001b[0m\u001b[0m\n",
      "\u001b[1;32m~\\anaconda3\\lib\\site-packages\\pandas\\core\\indexes\\base.py\u001b[0m in \u001b[0;36mget_loc\u001b[1;34m(self, key, method, tolerance)\u001b[0m\n\u001b[0;32m   2646\u001b[0m                 \u001b[1;32mreturn\u001b[0m \u001b[0mself\u001b[0m\u001b[1;33m.\u001b[0m\u001b[0m_engine\u001b[0m\u001b[1;33m.\u001b[0m\u001b[0mget_loc\u001b[0m\u001b[1;33m(\u001b[0m\u001b[0mkey\u001b[0m\u001b[1;33m)\u001b[0m\u001b[1;33m\u001b[0m\u001b[1;33m\u001b[0m\u001b[0m\n\u001b[0;32m   2647\u001b[0m             \u001b[1;32mexcept\u001b[0m \u001b[0mKeyError\u001b[0m\u001b[1;33m:\u001b[0m\u001b[1;33m\u001b[0m\u001b[1;33m\u001b[0m\u001b[0m\n\u001b[1;32m-> 2648\u001b[1;33m                 \u001b[1;32mreturn\u001b[0m \u001b[0mself\u001b[0m\u001b[1;33m.\u001b[0m\u001b[0m_engine\u001b[0m\u001b[1;33m.\u001b[0m\u001b[0mget_loc\u001b[0m\u001b[1;33m(\u001b[0m\u001b[0mself\u001b[0m\u001b[1;33m.\u001b[0m\u001b[0m_maybe_cast_indexer\u001b[0m\u001b[1;33m(\u001b[0m\u001b[0mkey\u001b[0m\u001b[1;33m)\u001b[0m\u001b[1;33m)\u001b[0m\u001b[1;33m\u001b[0m\u001b[1;33m\u001b[0m\u001b[0m\n\u001b[0m\u001b[0;32m   2649\u001b[0m         \u001b[0mindexer\u001b[0m \u001b[1;33m=\u001b[0m \u001b[0mself\u001b[0m\u001b[1;33m.\u001b[0m\u001b[0mget_indexer\u001b[0m\u001b[1;33m(\u001b[0m\u001b[1;33m[\u001b[0m\u001b[0mkey\u001b[0m\u001b[1;33m]\u001b[0m\u001b[1;33m,\u001b[0m \u001b[0mmethod\u001b[0m\u001b[1;33m=\u001b[0m\u001b[0mmethod\u001b[0m\u001b[1;33m,\u001b[0m \u001b[0mtolerance\u001b[0m\u001b[1;33m=\u001b[0m\u001b[0mtolerance\u001b[0m\u001b[1;33m)\u001b[0m\u001b[1;33m\u001b[0m\u001b[1;33m\u001b[0m\u001b[0m\n\u001b[0;32m   2650\u001b[0m         \u001b[1;32mif\u001b[0m \u001b[0mindexer\u001b[0m\u001b[1;33m.\u001b[0m\u001b[0mndim\u001b[0m \u001b[1;33m>\u001b[0m \u001b[1;36m1\u001b[0m \u001b[1;32mor\u001b[0m \u001b[0mindexer\u001b[0m\u001b[1;33m.\u001b[0m\u001b[0msize\u001b[0m \u001b[1;33m>\u001b[0m \u001b[1;36m1\u001b[0m\u001b[1;33m:\u001b[0m\u001b[1;33m\u001b[0m\u001b[1;33m\u001b[0m\u001b[0m\n",
      "\u001b[1;32mpandas\\_libs\\index.pyx\u001b[0m in \u001b[0;36mpandas._libs.index.IndexEngine.get_loc\u001b[1;34m()\u001b[0m\n",
      "\u001b[1;32mpandas\\_libs\\index.pyx\u001b[0m in \u001b[0;36mpandas._libs.index.IndexEngine.get_loc\u001b[1;34m()\u001b[0m\n",
      "\u001b[1;32mpandas\\_libs\\hashtable_class_helper.pxi\u001b[0m in \u001b[0;36mpandas._libs.hashtable.PyObjectHashTable.get_item\u001b[1;34m()\u001b[0m\n",
      "\u001b[1;32mpandas\\_libs\\hashtable_class_helper.pxi\u001b[0m in \u001b[0;36mpandas._libs.hashtable.PyObjectHashTable.get_item\u001b[1;34m()\u001b[0m\n",
      "\u001b[1;31mKeyError\u001b[0m: 0"
     ]
    }
   ],
   "source": [
    "road=Road_Features()\n",
    "speed=road.get_Speed()\n",
    "camera=road.get_Camera()\n",
    "incident=road.get_Incident()\n",
    "signal=road.get_Signal()\n",
    "sign=road.get_Sign()\n",
    "volume=road.get_Volume()\n",
    "weather=Weather_Features().download_weather_data()\n"
   ]
  },
  {
   "cell_type": "code",
   "execution_count": null,
   "metadata": {},
   "outputs": [],
   "source": [
    "print(volume)"
   ]
  },
  {
   "cell_type": "code",
   "execution_count": null,
   "metadata": {},
   "outputs": [],
   "source": []
  },
  {
   "cell_type": "code",
   "execution_count": null,
   "metadata": {},
   "outputs": [],
   "source": []
  },
  {
   "cell_type": "code",
   "execution_count": null,
   "metadata": {},
   "outputs": [],
   "source": []
  },
  {
   "cell_type": "code",
   "execution_count": null,
   "metadata": {},
   "outputs": [],
   "source": [
    "\n",
    "def download_weather_data(st, y, m=1, d=True):\n",
    "    \"\"\" returns a DataFrame with weather data from climate.weather.gc.ca\"\"\"\n",
    "    url_template = \"https://climate.weather.gc.ca/climate_data/bulk_data_e.html?format=csv&stationID={station}&Year={year}&Month={month}&Day=14&timeframe={timeframe}&submit=Download+Data\"\n",
    "    url = url_template.format(station = st, year=y, month=m, timeframe = 2)\n",
    "    weather_data = pd.read_csv(url, index_col='Date/Time', parse_dates=True)\n",
    "    weather_data.columns = [col.replace('\\xb0', '') for col in weather_data.columns]\n",
    "    data_df = pd.DataFrame(weather_data)\n",
    "    \n",
    "    return data_df"
   ]
  },
  {
   "cell_type": "code",
   "execution_count": null,
   "metadata": {},
   "outputs": [],
   "source": [
    "download_weather_data(2205, 1918, 1, True)"
   ]
  },
  {
   "cell_type": "markdown",
   "metadata": {},
   "source": [
    "This is a test"
   ]
  },
  {
   "cell_type": "code",
   "execution_count": null,
   "metadata": {},
   "outputs": [],
   "source": []
  }
 ],
 "metadata": {
  "kernelspec": {
   "display_name": "Python 3",
   "language": "python",
   "name": "python3"
  },
  "language_info": {
   "codemirror_mode": {
    "name": "ipython",
    "version": 3
   },
   "file_extension": ".py",
   "mimetype": "text/x-python",
   "name": "python",
   "nbconvert_exporter": "python",
   "pygments_lexer": "ipython3",
   "version": "3.7.6"
  }
 },
 "nbformat": 4,
 "nbformat_minor": 1
}
