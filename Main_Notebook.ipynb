{
 "cells": [
  {
   "cell_type": "code",
   "execution_count": 1,
   "metadata": {},
   "outputs": [],
   "source": [
    "import pandas as pd\n",
    "import numpy as np\n",
    "import seaborn as sns\n",
    "import folium\n"
   ]
  },
  {
   "cell_type": "markdown",
   "metadata": {},
   "source": [
    "   # Creating Classes"
   ]
  },
  {
   "cell_type": "markdown",
   "metadata": {},
   "source": [
    "   **Road data handling class**"
   ]
  },
  {
   "cell_type": "code",
   "execution_count": 2,
   "metadata": {},
   "outputs": [],
   "source": [
    "class Road_Features():\n",
    "    \"\"\"\n",
    "    This class reads the csvs of Road data , clean and returen the organized dataFrames\n",
    "    \"\"\"\n",
    "    def __init__(self):\n",
    "        self.Signal_Handling()\n",
    "  \n",
    "        \n",
    "    \n",
    "        self.Speed_Handling()\n",
    "        self.Camera_Handling()\n",
    "        self.Incidents_Handling()\n",
    "        self.Sign_Handling()\n",
    "        self.Volume_Handling()\n",
    "        \n",
    "\n",
    "    def Speed_Handling(self):\n",
    "        self.speed_limit=pd.read_csv('Speed_Limits.csv')\n",
    "        \n",
    "        self.speed_limit.rename(columns={'STREET_NAME':'Location','SPEED':'Speed','multiline':'Coordinates','CREATED_DT':'Date'},inplace=True)\n",
    "        coord=self.speed_limit['Coordinates'].str.split(expand=True)\n",
    "        \n",
    "        for i in range(len(coord.columns)):\n",
    "            if(i>0):\n",
    "                coord[i]= coord[i].str.strip(')(,')\n",
    "        coord.drop(columns=0,inplace=True)\n",
    "        self.speed_limit['Date']=pd.to_datetime(self.speed_limit['Date'])\n",
    "        self.speed_limit['Year']=pd.DatetimeIndex(self.speed_limit['Date']).year\n",
    "        self.speed_limit=self.speed_limit[['Year','Speed']]\n",
    "        self.speed_limit=pd.merge(self.speed_limit,coord,left_index=True,right_index=True)\n",
    "        self.speed_limit=self.speed_limit.loc[self.speed_limit['Year']<=2018]\n",
    "    def Camera_Handling(self):\n",
    "        self.cameras=pd.read_csv('Traffic_Camera_Locations.csv')\n",
    "        self.cameras=self.cameras[['longitude','latitude']]\n",
    "#         print(self.cameras)\n",
    "    def Incidents_Handling(self):\n",
    "        self.incidents=pd.read_csv('Traffic_Incidents.csv')\n",
    "        self.incidents.rename(columns={'INCIDENT INFO':'Location','START_DT':'Date'},inplace=True)\n",
    "        self.incidents['Date']=pd.to_datetime(self.incidents['Date'])\n",
    "        self.incidents['Year']=pd.DatetimeIndex(self.incidents['Date']).year\n",
    "        self.incidents=self.incidents[['Location','Year','Longitude','Latitude','Count']]\n",
    "        self.incidents=self.incidents.loc[self.incidents['Year']==2018]\n",
    "        self.incidents=self.incidents.groupby('Location').sum().reset_index()\n",
    "        self.incidents['Longitude']=self.incidents['Longitude']/self.incidents['Count']\n",
    "        self.incidents['Latitude']=self.incidents['Latitude']/self.incidents['Count']\n",
    "        self.incidents['Year']=self.incidents['Year']/self.incidents['Count']\n",
    "    def Signal_Handling(self):\n",
    "        self.signals=pd.read_csv('Traffic_Signals.csv')\n",
    "        self.signals.rename(columns={'INSTDATE':'Date','INT_TYPE':'Signal Type','latitude':'Latitude',\\\n",
    "                                     'longitude':'Longitude'},inplace=True)\n",
    "        self.signals['Intersection']=self.signals['FIRSTROAD']+' & '+self.signals['SECONDROAD']\n",
    "        self.signals['Date']=pd.to_datetime(self.signals['Date'])\n",
    "        self.signals['Year']=pd.DatetimeIndex(self.signals['Date']).year\n",
    "        self.signals['Signal Type']=self.signals['Signal Type'].astype(str)\n",
    "        self.signals=self.signals[['Intersection','Signal Type','Year','Longitude','Latitude','Count']]\n",
    "        \n",
    "        self.signals=self.signals.loc[self.signals['Year']<=2018]\n",
    "        self.signals=self.signals.groupby('Intersection').sum().reset_index()\n",
    "        \n",
    "        self.signals['Longitude']=self.signals['Longitude']/self.signals['Count']\n",
    "        self.signals['Latitude']=self.signals['Latitude']/self.signals['Count'] \n",
    "        self.signals['Year']=self.signals['Year']/self.signals['Count'] \n",
    "        \n",
    "    def Sign_Handling(self):\n",
    "        self.signs=pd.read_csv('Traffic_Signs.csv')\n",
    "        self.signs.rename(columns={'BLADE_TYPE':'Type','INSTDATE':'Date'},inplace=True)\n",
    "        \n",
    "        self.signs['Date']=pd.to_datetime(self.signs['Date'])\n",
    "        self.signs['Year']=pd.DatetimeIndex(self.signs['Date']).year\n",
    "        self.signs['Count']=1\n",
    "        self.signs=self.signs[['Type','Year','POINT','Count']]\n",
    "        self.signs=self.signs.groupby('POINT').sum().reset_index()\n",
    "        self.signs['Year']=self.signs['Year']/self.signs['Count']\n",
    "        self.signs=self.signs.loc[self.signs['Year']<=2018]\n",
    "        coord=self.signs['POINT'].str.split(expand=True)\n",
    "#         \n",
    "        for i in range(len(coord.columns)):\n",
    "            \n",
    "            if (i>0):\n",
    "                coord[i]= coord[i].str.strip(',()')\n",
    "\n",
    "        coord.drop(columns=0,inplace=True)\n",
    "        self.signs.drop(columns='POINT',inplace=True)\n",
    "        self.signs=pd.merge(self.signs,coord,left_index=True,right_index=True)\n",
    "\n",
    "    def Volume_Handling(self):\n",
    "        self.volume=pd.read_csv('Traffic_Volumes_for_2018.csv')\n",
    "        self.volume.rename(columns={'YEAR':'Year','SECNAME':'Location','VOLUME':'Volume'},inplace=True)\n",
    "        coord=self.volume['multilinestring'].str.split(expand=True)\n",
    "        for i in range(len(coord.columns)):\n",
    "            \n",
    "            if (i>0):\n",
    "                coord[i]= coord[i].str.strip(',()')\n",
    "        coord.drop(columns=0,inplace=True)\n",
    "        self.volume=self.volume[['Year','Location','Volume']]\n",
    "        self.volume=pd.merge(self.volume,coord,left_index=True,right_index=True)\n",
    "    \n",
    "    def get_Speed(self):\n",
    "        return self.speed_limit\n",
    "    def get_Camera(self):\n",
    "        return self.cameras\n",
    "    def get_Incident(self):\n",
    "        return self.incidents\n",
    "    def get_Signal (self):\n",
    "        return self.signals\n",
    "    def get_Sign (self):\n",
    "        return self.signs\n",
    "    def get_Volume(self):\n",
    "        return self.volume\n",
    "        "
   ]
  },
  {
   "cell_type": "markdown",
   "metadata": {},
   "source": [
    "**Weather data Class**"
   ]
  },
  {
   "cell_type": "code",
   "execution_count": 3,
   "metadata": {},
   "outputs": [],
   "source": [
    "class Weather_Features():\n",
    "#     def __init__(self):\n",
    "#         self.download_weather_data()\n",
    "        \n",
    "    def download_weather_data(self):\n",
    "        self.url_template = \"https://climate.weather.gc.ca/climate_data/bulk_data_e.html?format=csv&stationID={station}&Year={year}&Month={month}&Day=14&timeframe={timeframe}&submit=Download+Data\"\n",
    "        self.url = self.url_template.format(station = 50430, year=2018, month=1, timeframe = 1)\n",
    "        self.weather_data = pd.read_csv(self.url, index_col='Date/Time', parse_dates=True)\n",
    "        self.weather_data.columns = [col.replace('\\xb0', '') for col in self.weather_data.columns]\n",
    "        self.data_df = pd.DataFrame(self.weather_data)\n",
    "        self.data_df = self.data_df[['Temp (C)','Visibility (km)']].describe().reset_index()\n",
    "        return self.data_df\n"
   ]
  },
  {
   "cell_type": "markdown",
   "metadata": {},
   "source": [
    "**Map Class**"
   ]
  },
  {
   "cell_type": "code",
   "execution_count": 176,
   "metadata": {},
   "outputs": [],
   "source": [
    "class Map ():\n",
    "    \"\"\"\n",
    "    this class generates the map with boundary and gridlines, also generate the grid coordinates\n",
    "    Todo- add markers for each grid to popup stats per grid\n",
    "    \"\"\"\n",
    "    def __init__(self):\n",
    "        self.boundary=pd.read_csv('City_Boundary_layer.csv')\n",
    "        self.boundary=self.boundary['the_geom'].str.split(expand=True)\n",
    "        \n",
    "        \n",
    "        for i in range(len(self.boundary.columns)):\n",
    "            if(i>0):\n",
    "                self.boundary[i]= self.boundary[i].str.strip(')(,')\n",
    "        self.boundary.drop(columns=0,inplace=True)\n",
    "        self.Boundary()\n",
    "        self.draw_Boundary()\n",
    "        self.draw_Grid()\n",
    "        self.generate_Grid_Coord()\n",
    "        \n",
    "    def Boundary(self):\n",
    "#         self.boundary_coordinates=[]\n",
    "       \n",
    "        df=pd.DataFrame(columns=['Lat','Long'])\n",
    "        for i in range(0,len(self.boundary.columns),2):\n",
    "            if(i+1)<len(self.boundary.columns):\n",
    "                df = df.append({'Long':self.boundary.iloc[0,(i)],'Lat':self.boundary.iloc[0,(i+1)]}, ignore_index=True)\n",
    "#                 tes['Long'].append(float(self.boundary.iloc[0,(i)])\n",
    "#                 tes['Lat'].append(float(self.boundary.iloc[0,(i+1)])\n",
    "#                 temp=[float(self.boundary.iloc[0,i+1]),float(self.boundary.iloc[0,(i)])]\n",
    "#                 self.boundary_coordinates.append(temp)\n",
    "            else:\n",
    "                break\n",
    "        self.min_lat=float(df['Lat'].min())\n",
    "        self.max_lat=float(df['Lat'].max())\n",
    "        self.min_long=float(df['Long'].min())\n",
    "        self.max_long=float(df['Long'].max())\n",
    "#         print(self.min_lat,self.max_long)\n",
    "#         print(self.min_lat,self.min_long)\n",
    "#         print(self.max_lat,self.min_long)\n",
    "#         print(self.max_lat,self.max_long)\n",
    "    def draw_Boundary(self):\n",
    "        self.m=folium.Map(location=[51.048615,-114.070847],zoom_start=10)\n",
    "        cord=[[self.min_lat,self.max_long],[self.min_lat,self.min_long],\n",
    "              [self.max_lat,self.min_long],[self.max_lat,self.max_long],[self.min_lat,self.max_long]]\n",
    "        \n",
    "        f1=folium.FeatureGroup(\"Boundary\")\n",
    "        line=folium.vector_layers.PolyLine(cord,color='blue').add_to(f1)\n",
    "#         line=folium.vector_layers.PolyLine(self.boundary_coordinates,popup='<b>boundary</b>',\\\n",
    "#                                      tooltip='boundary',color='blue',weight=10).add_to(f1)\n",
    "        f1.add_to(self.m)\n",
    "        \n",
    "        \n",
    "        \n",
    "#         print('hter')\n",
    "#         display(m)\n",
    "    def draw_Grid(self):\n",
    "        f2=folium.FeatureGroup(\"Grid\")\n",
    "        self.diff_long=(self.max_long-self.min_long)/10\n",
    "        self.diff_lat=(self.max_lat-self.min_lat)/10\n",
    "        for i in range(10):\n",
    "            cord=[[self.min_lat,(self.max_long-self.diff_long*i)],[self.max_lat,(self.max_long-self.diff_long*i)]]\n",
    "            line=folium.vector_layers.PolyLine(cord,color='blue').add_to(f2)\n",
    "        for i in range(10):\n",
    "            cord=[[(self.max_lat-self.diff_lat*i),self.max_long],[(self.max_lat-self.diff_lat*i),self.min_long]]\n",
    "            line=folium.vector_layers.PolyLine(cord,color='blue').add_to(f2)\n",
    "        \n",
    "#         folium.Marker(location=[self.max_lat,self.max_long],popup='max,max',color='red').add_to(self.m)\n",
    "#         folium.Marker(location=[self.min_lat,self.min_long],popup='min,min',color='red').add_to(self.m)\n",
    "#         folium.Marker(location=[self.max_lat-self.diff_lat,self.max_long],popup='max-1/10,max',color='red').add_to(self.m)\n",
    "        f2.add_to(self.m)\n",
    "        folium.LayerControl().add_to(self.m)\n",
    "        \n",
    "    def generate_Grid_Coord(self):\n",
    "        self.grid_coord=pd.DataFrame(index=['max_lat','min_lat','max_long','min_long'])\n",
    "        count=0\n",
    "        key=1\n",
    "        while(count<=9):\n",
    "            for i in range(10):\n",
    "                for k in range(count,(count+1)):\n",
    "                    max_lat=(self.max_lat-self.diff_lat*k)\n",
    "                    min_lat=(self.max_lat-self.diff_lat*(k+1))\n",
    "                    max_long=(self.max_long-self.diff_long*i)\n",
    "                    min_long=(self.max_long-self.diff_long*(i+1))\n",
    "#                     a=[(self.max_lat-self.diff_lat*k),(self.max_long-self.diff_long*i)]\n",
    "#                     b=[(self.max_lat-self.diff_lat*k),(self.max_long-self.diff_long*(i+1))]\n",
    "#                     c=[(self.max_lat-self.diff_lat*(k+1)),(self.max_long-self.diff_long*(i+1))]\n",
    "#                     d=[(self.max_lat-self.diff_lat*(k+1)),(self.max_long-self.diff_long*i)]\n",
    "                    \n",
    "#                 folium.Marker(location=a,popup='a {}'.format(key),color='red').add_to(self.m)\n",
    "#                 folium.Marker(location=b,popup='b {}'.format(key),color='red').add_to(self.m)\n",
    "#                 folium.Marker(location=c,popup='c {}'.format(key),color='red').add_to(self.m)\n",
    "#                 folium.Marker(location=d,popup='d {}'.format(key),color='red').add_to(self.m)\n",
    "#                 self.grid_coord[key]=[a,b,c,d]\n",
    "                self.grid_coord[key]=[max_lat,min_lat,max_long,min_long]\n",
    "        \n",
    "        \n",
    "                key+=1\n",
    "            count+=1\n",
    "        self.m.save('index.html')\n",
    "        \n",
    "    def get_Grid_Coord(self):\n",
    "        return self.grid_coord\n",
    "        \n",
    "\n",
    "#Todo:\n",
    "## find a way to find the intersection between the grid and the csv files\n",
    "## use a marker for each grid  that contain all the stats "
   ]
  },
  {
   "cell_type": "markdown",
   "metadata": {},
   "source": [
    "**Data Analysis Class**"
   ]
  },
  {
   "cell_type": "code",
   "execution_count": 199,
   "metadata": {},
   "outputs": [],
   "source": [
    "class Data_Analysis():\n",
    "    \"\"\"\n",
    "    This class will find if any of the data fall in the grid\n",
    "    and calculate the stats\n",
    "    \"\"\"\n",
    "    def __init__(self,speed,camera,incident,signal,sign,volume,weather,grid_coord):\n",
    "        self.speed=speed\n",
    "        self.camera=camera\n",
    "        self.incident=incident\n",
    "        self.signal=signal\n",
    "        self.sign=sign\n",
    "        self.volume=volume\n",
    "        self.weather=weather\n",
    "        self.grid_coord=grid_coord\n",
    "        for i in \n",
    "        print(self.speed.iloc[0][60])\n",
    "#         print(self.speed)\n",
    "#     def speed_Analysis(self):\n",
    "#         print(self.speed.iloc[0])"
   ]
  },
  {
   "cell_type": "markdown",
   "metadata": {},
   "source": [
    "**Main Code**"
   ]
  },
  {
   "cell_type": "code",
   "execution_count": 5,
   "metadata": {},
   "outputs": [],
   "source": [
    "road=Road_Features()\n",
    "speed=road.get_Speed()\n",
    "camera=road.get_Camera()\n",
    "incident=road.get_Incident()\n",
    "signal=road.get_Signal()\n",
    "sign=road.get_Sign()\n",
    "volume=road.get_Volume()\n",
    "weather=Weather_Features().download_weather_data()\n"
   ]
  },
  {
   "cell_type": "code",
   "execution_count": 177,
   "metadata": {},
   "outputs": [],
   "source": [
    "map=Map()"
   ]
  },
  {
   "cell_type": "code",
   "execution_count": 179,
   "metadata": {},
   "outputs": [],
   "source": [
    "grid_coord=map.get_Grid_Coord()\n"
   ]
  },
  {
   "cell_type": "code",
   "execution_count": 180,
   "metadata": {
    "scrolled": true
   },
   "outputs": [
    {
     "name": "stdout",
     "output_type": "stream",
     "text": [
      "                 1           2           3           4           5    \\\n",
      "max_lat    51.212425   51.212425   51.212425   51.212425   51.212425   \n",
      "min_lat    51.175465   51.175465   51.175465   51.175465   51.175465   \n",
      "max_long -114.315796 -114.270207 -114.224618 -114.179029 -114.133440   \n",
      "min_long -114.270207 -114.224618 -114.179029 -114.133440 -114.087851   \n",
      "\n",
      "                 6           7           8           9           10   ...  \\\n",
      "max_lat    51.212425   51.212425   51.212425   51.212425   51.212425  ...   \n",
      "min_lat    51.175465   51.175465   51.175465   51.175465   51.175465  ...   \n",
      "max_long -114.087851 -114.042261 -113.996672 -113.951083 -113.905494  ...   \n",
      "min_long -114.042261 -113.996672 -113.951083 -113.905494 -113.859905  ...   \n",
      "\n",
      "                 91          92          93          94          95   \\\n",
      "max_lat    50.879782   50.879782   50.879782   50.879782   50.879782   \n",
      "min_lat    50.842822   50.842822   50.842822   50.842822   50.842822   \n",
      "max_long -114.315796 -114.270207 -114.224618 -114.179029 -114.133440   \n",
      "min_long -114.270207 -114.224618 -114.179029 -114.133440 -114.087851   \n",
      "\n",
      "                 96          97          98          99          100  \n",
      "max_lat    50.879782   50.879782   50.879782   50.879782   50.879782  \n",
      "min_lat    50.842822   50.842822   50.842822   50.842822   50.842822  \n",
      "max_long -114.087851 -114.042261 -113.996672 -113.951083 -113.905494  \n",
      "min_long -114.042261 -113.996672 -113.951083 -113.905494 -113.859905  \n",
      "\n",
      "[4 rows x 100 columns]\n"
     ]
    }
   ],
   "source": [
    "print(grid_coord.head())"
   ]
  },
  {
   "cell_type": "code",
   "execution_count": 175,
   "metadata": {},
   "outputs": [
    {
     "name": "stdout",
     "output_type": "stream",
     "text": [
      "   Year    Location  Volume                    1                   2  \\\n",
      "0  2018      5AVS12   22000  -114.06036700906716   51.04831941917631   \n",
      "1  2018  94AVSEWBON    5000  -114.06876825342002   50.96863425573366   \n",
      "2  2018    12STNE29    5000  -114.03372206187294  51.053232488239935   \n",
      "3  2018    100AVNE1    2000  -114.01318801277267  51.143369698984344   \n",
      "4  2018    106AVSE1   14000  -113.98128756128924   50.95784114177629   \n",
      "\n",
      "                     3                  4                    5  \\\n",
      "0  -114.05790835100508  51.04824965329041                 None   \n",
      "1   -114.0714654457777  50.96864796962547                 None   \n",
      "2  -114.03370889695204  51.05088210489753                 None   \n",
      "3  -114.01185606469929  51.14336996653213  -114.01052411660841   \n",
      "4  -113.98123806667255  50.95784139004773  -113.98116948007568   \n",
      "\n",
      "                   6                    7  ...   479   480   481   482   483  \\\n",
      "0               None                 None  ...  None  None  None  None  None   \n",
      "1               None                 None  ...  None  None  None  None  None   \n",
      "2               None                 None  ...  None  None  None  None  None   \n",
      "3  51.14337021891259  -114.00919216850117  ...  None  None  None  None  None   \n",
      "4  50.95784137901059  -113.98106061975949  ...  None  None  None  None  None   \n",
      "\n",
      "    484   485   486   487   488  \n",
      "0  None  None  None  None  None  \n",
      "1  None  None  None  None  None  \n",
      "2  None  None  None  None  None  \n",
      "3  None  None  None  None  None  \n",
      "4  None  None  None  None  None  \n",
      "\n",
      "[5 rows x 491 columns]\n"
     ]
    }
   ],
   "source": [
    "# print(volume.head())"
   ]
  },
  {
   "cell_type": "code",
   "execution_count": 200,
   "metadata": {},
   "outputs": [
    {
     "name": "stdout",
     "output_type": "stream",
     "text": [
      "50.994462374778\n"
     ]
    }
   ],
   "source": [
    "dataAnalysis=Data_Analysis(speed,camera,incident,signal,sign,volume,weather,grid_coord)"
   ]
  },
  {
   "cell_type": "code",
   "execution_count": 185,
   "metadata": {},
   "outputs": [
    {
     "name": "stdout",
     "output_type": "stream",
     "text": [
      "<__main__.Road_Features object at 0x0000023BC0A18D48>\n"
     ]
    }
   ],
   "source": []
  }
 ],
 "metadata": {
  "kernelspec": {
   "display_name": "Python 3",
   "language": "python",
   "name": "python3"
  },
  "language_info": {
   "codemirror_mode": {
    "name": "ipython",
    "version": 3
   },
   "file_extension": ".py",
   "mimetype": "text/x-python",
   "name": "python",
   "nbconvert_exporter": "python",
   "pygments_lexer": "ipython3",
   "version": "3.7.6"
  }
 },
 "nbformat": 4,
 "nbformat_minor": 1
}
